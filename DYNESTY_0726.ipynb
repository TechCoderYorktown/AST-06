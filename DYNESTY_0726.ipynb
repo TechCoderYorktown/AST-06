{
  "cells": [
    {
      "cell_type": "code",
      "source": [
        "!pip install dynesty"
      ],
      "metadata": {
        "colab": {
          "base_uri": "https://localhost:8080/"
        },
        "id": "c7m3RMdfEv_8",
        "outputId": "2636ec1a-69bf-427d-ec74-e9999b83cc9e"
      },
      "id": "c7m3RMdfEv_8",
      "execution_count": null,
      "outputs": [
        {
          "output_type": "stream",
          "name": "stdout",
          "text": [
            "Requirement already satisfied: dynesty in /usr/local/lib/python3.11/dist-packages (2.1.5)\n"
          ]
        }
      ]
    },
    {
      "cell_type": "code",
      "execution_count": null,
      "id": "dbeff6d4",
      "metadata": {
        "id": "dbeff6d4"
      },
      "outputs": [],
      "source": [
        "from scipy.optimize import minimize\n",
        "import numpy as np\n",
        "from scipy.special import logsumexp\n",
        "from scipy.stats import norm, uniform\n",
        "from scipy.interpolate import interp1d\n",
        "import pandas as pd\n",
        "import matplotlib.pyplot as plt\n",
        "\n",
        "import dynesty"
      ]
    },
    {
      "cell_type": "markdown",
      "id": "aaf88caf",
      "metadata": {
        "id": "aaf88caf"
      },
      "source": []
    },
    {
      "cell_type": "code",
      "execution_count": null,
      "id": "debe87d8",
      "metadata": {
        "id": "debe87d8",
        "colab": {
          "base_uri": "https://localhost:8080/",
          "height": 547
        },
        "outputId": "8872487d-b144-49a5-dd96-3dc3e5c558b1"
      },
      "outputs": [
        {
          "output_type": "error",
          "ename": "KeyError",
          "evalue": "'theta_j'",
          "traceback": [
            "\u001b[0;31m---------------------------------------------------------------------------\u001b[0m",
            "\u001b[0;31mKeyError\u001b[0m                                  Traceback (most recent call last)",
            "\u001b[0;32m/usr/local/lib/python3.11/dist-packages/pandas/core/indexes/base.py\u001b[0m in \u001b[0;36mget_loc\u001b[0;34m(self, key)\u001b[0m\n\u001b[1;32m   3804\u001b[0m         \u001b[0;32mtry\u001b[0m\u001b[0;34m:\u001b[0m\u001b[0;34m\u001b[0m\u001b[0;34m\u001b[0m\u001b[0m\n\u001b[0;32m-> 3805\u001b[0;31m             \u001b[0;32mreturn\u001b[0m \u001b[0mself\u001b[0m\u001b[0;34m.\u001b[0m\u001b[0m_engine\u001b[0m\u001b[0;34m.\u001b[0m\u001b[0mget_loc\u001b[0m\u001b[0;34m(\u001b[0m\u001b[0mcasted_key\u001b[0m\u001b[0;34m)\u001b[0m\u001b[0;34m\u001b[0m\u001b[0;34m\u001b[0m\u001b[0m\n\u001b[0m\u001b[1;32m   3806\u001b[0m         \u001b[0;32mexcept\u001b[0m \u001b[0mKeyError\u001b[0m \u001b[0;32mas\u001b[0m \u001b[0merr\u001b[0m\u001b[0;34m:\u001b[0m\u001b[0;34m\u001b[0m\u001b[0;34m\u001b[0m\u001b[0m\n",
            "\u001b[0;32mindex.pyx\u001b[0m in \u001b[0;36mpandas._libs.index.IndexEngine.get_loc\u001b[0;34m()\u001b[0m\n",
            "\u001b[0;32mindex.pyx\u001b[0m in \u001b[0;36mpandas._libs.index.IndexEngine.get_loc\u001b[0;34m()\u001b[0m\n",
            "\u001b[0;32mpandas/_libs/hashtable_class_helper.pxi\u001b[0m in \u001b[0;36mpandas._libs.hashtable.PyObjectHashTable.get_item\u001b[0;34m()\u001b[0m\n",
            "\u001b[0;32mpandas/_libs/hashtable_class_helper.pxi\u001b[0m in \u001b[0;36mpandas._libs.hashtable.PyObjectHashTable.get_item\u001b[0;34m()\u001b[0m\n",
            "\u001b[0;31mKeyError\u001b[0m: 'theta_j'",
            "\nThe above exception was the direct cause of the following exception:\n",
            "\u001b[0;31mKeyError\u001b[0m                                  Traceback (most recent call last)",
            "\u001b[0;32m/tmp/ipython-input-848782030.py\u001b[0m in \u001b[0;36m<cell line: 0>\u001b[0;34m()\u001b[0m\n\u001b[1;32m      1\u001b[0m \u001b[0mdf\u001b[0m \u001b[0;34m=\u001b[0m \u001b[0mpd\u001b[0m\u001b[0;34m.\u001b[0m\u001b[0mread_csv\u001b[0m\u001b[0;34m(\u001b[0m\u001b[0;34m'M32_0722.csv'\u001b[0m\u001b[0;34m)\u001b[0m\u001b[0;34m\u001b[0m\u001b[0;34m\u001b[0m\u001b[0m\n\u001b[1;32m      2\u001b[0m \u001b[0;32mimport\u001b[0m \u001b[0mimportlib\u001b[0m\u001b[0;34m\u001b[0m\u001b[0;34m\u001b[0m\u001b[0m\n\u001b[0;32m----> 3\u001b[0;31m \u001b[0;32mimport\u001b[0m \u001b[0mFunctionsM32\u001b[0m \u001b[0;32mas\u001b[0m \u001b[0mFM\u001b[0m\u001b[0;34m\u001b[0m\u001b[0;34m\u001b[0m\u001b[0m\n\u001b[0m\u001b[1;32m      4\u001b[0m \u001b[0mimportlib\u001b[0m\u001b[0;34m.\u001b[0m\u001b[0mreload\u001b[0m\u001b[0;34m(\u001b[0m\u001b[0mFM\u001b[0m\u001b[0;34m)\u001b[0m\u001b[0;34m\u001b[0m\u001b[0;34m\u001b[0m\u001b[0m\n\u001b[1;32m      5\u001b[0m \u001b[0mdf\u001b[0m \u001b[0;34m=\u001b[0m \u001b[0mFM\u001b[0m\u001b[0;34m.\u001b[0m\u001b[0miterate_R_disk_convergence\u001b[0m\u001b[0;34m(\u001b[0m\u001b[0mdf\u001b[0m\u001b[0;34m,\u001b[0m \u001b[0mmax_iter\u001b[0m\u001b[0;34m=\u001b[0m\u001b[0;36m100\u001b[0m\u001b[0;34m,\u001b[0m \u001b[0mtol_inclination\u001b[0m\u001b[0;34m=\u001b[0m\u001b[0;36m0.01\u001b[0m\u001b[0;34m,\u001b[0m \u001b[0mtol_PA\u001b[0m\u001b[0;34m=\u001b[0m\u001b[0;36m0.35\u001b[0m\u001b[0;34m,\u001b[0m \u001b[0mD_M31\u001b[0m\u001b[0;34m=\u001b[0m\u001b[0;36m776.2\u001b[0m\u001b[0;34m,\u001b[0m \u001b[0mprint\u001b[0m\u001b[0;34m=\u001b[0m\u001b[0;32mTrue\u001b[0m\u001b[0;34m)\u001b[0m\u001b[0;34m\u001b[0m\u001b[0;34m\u001b[0m\u001b[0m\n",
            "\u001b[0;32m/content/FunctionsM32.py\u001b[0m in \u001b[0;36m<module>\u001b[0;34m\u001b[0m\n\u001b[1;32m    240\u001b[0m \u001b[0mdf_clear\u001b[0m \u001b[0;34m=\u001b[0m \u001b[0msample_choose\u001b[0m\u001b[0;34m(\u001b[0m\u001b[0mdf_raw\u001b[0m\u001b[0;34m,\u001b[0m \u001b[0mser\u001b[0m\u001b[0;34m=\u001b[0m\u001b[0;32mFalse\u001b[0m\u001b[0;34m,\u001b[0m \u001b[0mclear\u001b[0m\u001b[0;34m=\u001b[0m\u001b[0;32mTrue\u001b[0m\u001b[0;34m,\u001b[0m \u001b[0mcontam\u001b[0m\u001b[0;34m=\u001b[0m\u001b[0;32mFalse\u001b[0m\u001b[0;34m)\u001b[0m  \u001b[0;31m# Clear stars (1583개)\u001b[0m\u001b[0;34m\u001b[0m\u001b[0;34m\u001b[0m\u001b[0m\n\u001b[1;32m    241\u001b[0m \u001b[0mdf_contam\u001b[0m \u001b[0;34m=\u001b[0m \u001b[0msample_choose\u001b[0m\u001b[0;34m(\u001b[0m\u001b[0mdf_raw\u001b[0m\u001b[0;34m,\u001b[0m \u001b[0mser\u001b[0m\u001b[0;34m=\u001b[0m\u001b[0;32mFalse\u001b[0m\u001b[0;34m,\u001b[0m \u001b[0mclear\u001b[0m\u001b[0;34m=\u001b[0m\u001b[0;32mFalse\u001b[0m\u001b[0;34m,\u001b[0m \u001b[0mcontam\u001b[0m\u001b[0;34m=\u001b[0m\u001b[0;32mTrue\u001b[0m\u001b[0;34m)\u001b[0m  \u001b[0;31m# Contaminated stars (386개)\u001b[0m\u001b[0;34m\u001b[0m\u001b[0;34m\u001b[0m\u001b[0m\n\u001b[0;32m--> 242\u001b[0;31m \u001b[0mtheta_j_tar\u001b[0m\u001b[0;34m,\u001b[0m \u001b[0mi_j_rad_tar\u001b[0m\u001b[0;34m,\u001b[0m \u001b[0mv_helio_tar\u001b[0m\u001b[0;34m,\u001b[0m \u001b[0mv_rot_model_tar\u001b[0m \u001b[0;34m=\u001b[0m \u001b[0minput_data\u001b[0m\u001b[0;34m(\u001b[0m\u001b[0mdf_target\u001b[0m\u001b[0;34m)\u001b[0m\u001b[0;34m\u001b[0m\u001b[0;34m\u001b[0m\u001b[0m\n\u001b[0m\u001b[1;32m    243\u001b[0m \u001b[0mtheta_j_ser\u001b[0m\u001b[0;34m,\u001b[0m \u001b[0mi_j_rad_ser\u001b[0m\u001b[0;34m,\u001b[0m \u001b[0mv_helio_ser\u001b[0m\u001b[0;34m,\u001b[0m \u001b[0mv_rot_model_ser\u001b[0m \u001b[0;34m=\u001b[0m \u001b[0minput_data\u001b[0m\u001b[0;34m(\u001b[0m\u001b[0mdf_ser\u001b[0m\u001b[0;34m)\u001b[0m\u001b[0;34m\u001b[0m\u001b[0;34m\u001b[0m\u001b[0m\n\u001b[1;32m    244\u001b[0m \u001b[0mtheta_j_clear\u001b[0m\u001b[0;34m,\u001b[0m \u001b[0mi_j_rad_clear\u001b[0m\u001b[0;34m,\u001b[0m \u001b[0mv_helio_clear\u001b[0m\u001b[0;34m,\u001b[0m \u001b[0mv_rot_model_clear\u001b[0m \u001b[0;34m=\u001b[0m \u001b[0minput_data\u001b[0m\u001b[0;34m(\u001b[0m\u001b[0mdf_clear\u001b[0m\u001b[0;34m)\u001b[0m\u001b[0;34m\u001b[0m\u001b[0;34m\u001b[0m\u001b[0m\n",
            "\u001b[0;32m/content/FunctionsM32.py\u001b[0m in \u001b[0;36minput_data\u001b[0;34m(df)\u001b[0m\n\u001b[1;32m    227\u001b[0m     \u001b[0mReturns\u001b[0m\u001b[0;34m:\u001b[0m \u001b[0mtheta_j\u001b[0m\u001b[0;34m,\u001b[0m \u001b[0mi_j_rad\u001b[0m\u001b[0;34m,\u001b[0m \u001b[0mv_helio\u001b[0m\u001b[0;34m,\u001b[0m \u001b[0mv_rot_model\u001b[0m\u001b[0;34m\u001b[0m\u001b[0;34m\u001b[0m\u001b[0m\n\u001b[1;32m    228\u001b[0m     \"\"\"\n\u001b[0;32m--> 229\u001b[0;31m     \u001b[0mtheta_j\u001b[0m \u001b[0;34m=\u001b[0m \u001b[0mdf\u001b[0m\u001b[0;34m[\u001b[0m\u001b[0;34m'theta_j'\u001b[0m\u001b[0;34m]\u001b[0m\u001b[0;34m.\u001b[0m\u001b[0mvalues\u001b[0m\u001b[0;34m\u001b[0m\u001b[0;34m\u001b[0m\u001b[0m\n\u001b[0m\u001b[1;32m    230\u001b[0m     \u001b[0mi_j_rad\u001b[0m \u001b[0;34m=\u001b[0m \u001b[0mdf\u001b[0m\u001b[0;34m[\u001b[0m\u001b[0;34m'i_j_rad'\u001b[0m\u001b[0;34m]\u001b[0m\u001b[0;34m.\u001b[0m\u001b[0mvalues\u001b[0m\u001b[0;34m\u001b[0m\u001b[0;34m\u001b[0m\u001b[0m\n\u001b[1;32m    231\u001b[0m     \u001b[0mv_helio\u001b[0m \u001b[0;34m=\u001b[0m \u001b[0mdf\u001b[0m\u001b[0;34m[\u001b[0m\u001b[0;34m'v_helio'\u001b[0m\u001b[0;34m]\u001b[0m\u001b[0;34m.\u001b[0m\u001b[0mvalues\u001b[0m\u001b[0;34m\u001b[0m\u001b[0;34m\u001b[0m\u001b[0m\n",
            "\u001b[0;32m/usr/local/lib/python3.11/dist-packages/pandas/core/frame.py\u001b[0m in \u001b[0;36m__getitem__\u001b[0;34m(self, key)\u001b[0m\n\u001b[1;32m   4100\u001b[0m             \u001b[0;32mif\u001b[0m \u001b[0mself\u001b[0m\u001b[0;34m.\u001b[0m\u001b[0mcolumns\u001b[0m\u001b[0;34m.\u001b[0m\u001b[0mnlevels\u001b[0m \u001b[0;34m>\u001b[0m \u001b[0;36m1\u001b[0m\u001b[0;34m:\u001b[0m\u001b[0;34m\u001b[0m\u001b[0;34m\u001b[0m\u001b[0m\n\u001b[1;32m   4101\u001b[0m                 \u001b[0;32mreturn\u001b[0m \u001b[0mself\u001b[0m\u001b[0;34m.\u001b[0m\u001b[0m_getitem_multilevel\u001b[0m\u001b[0;34m(\u001b[0m\u001b[0mkey\u001b[0m\u001b[0;34m)\u001b[0m\u001b[0;34m\u001b[0m\u001b[0;34m\u001b[0m\u001b[0m\n\u001b[0;32m-> 4102\u001b[0;31m             \u001b[0mindexer\u001b[0m \u001b[0;34m=\u001b[0m \u001b[0mself\u001b[0m\u001b[0;34m.\u001b[0m\u001b[0mcolumns\u001b[0m\u001b[0;34m.\u001b[0m\u001b[0mget_loc\u001b[0m\u001b[0;34m(\u001b[0m\u001b[0mkey\u001b[0m\u001b[0;34m)\u001b[0m\u001b[0;34m\u001b[0m\u001b[0;34m\u001b[0m\u001b[0m\n\u001b[0m\u001b[1;32m   4103\u001b[0m             \u001b[0;32mif\u001b[0m \u001b[0mis_integer\u001b[0m\u001b[0;34m(\u001b[0m\u001b[0mindexer\u001b[0m\u001b[0;34m)\u001b[0m\u001b[0;34m:\u001b[0m\u001b[0;34m\u001b[0m\u001b[0;34m\u001b[0m\u001b[0m\n\u001b[1;32m   4104\u001b[0m                 \u001b[0mindexer\u001b[0m \u001b[0;34m=\u001b[0m \u001b[0;34m[\u001b[0m\u001b[0mindexer\u001b[0m\u001b[0;34m]\u001b[0m\u001b[0;34m\u001b[0m\u001b[0;34m\u001b[0m\u001b[0m\n",
            "\u001b[0;32m/usr/local/lib/python3.11/dist-packages/pandas/core/indexes/base.py\u001b[0m in \u001b[0;36mget_loc\u001b[0;34m(self, key)\u001b[0m\n\u001b[1;32m   3810\u001b[0m             ):\n\u001b[1;32m   3811\u001b[0m                 \u001b[0;32mraise\u001b[0m \u001b[0mInvalidIndexError\u001b[0m\u001b[0;34m(\u001b[0m\u001b[0mkey\u001b[0m\u001b[0;34m)\u001b[0m\u001b[0;34m\u001b[0m\u001b[0;34m\u001b[0m\u001b[0m\n\u001b[0;32m-> 3812\u001b[0;31m             \u001b[0;32mraise\u001b[0m \u001b[0mKeyError\u001b[0m\u001b[0;34m(\u001b[0m\u001b[0mkey\u001b[0m\u001b[0;34m)\u001b[0m \u001b[0;32mfrom\u001b[0m \u001b[0merr\u001b[0m\u001b[0;34m\u001b[0m\u001b[0;34m\u001b[0m\u001b[0m\n\u001b[0m\u001b[1;32m   3813\u001b[0m         \u001b[0;32mexcept\u001b[0m \u001b[0mTypeError\u001b[0m\u001b[0;34m:\u001b[0m\u001b[0;34m\u001b[0m\u001b[0;34m\u001b[0m\u001b[0m\n\u001b[1;32m   3814\u001b[0m             \u001b[0;31m# If we have a listlike key, _check_indexing_error will raise\u001b[0m\u001b[0;34m\u001b[0m\u001b[0;34m\u001b[0m\u001b[0m\n",
            "\u001b[0;31mKeyError\u001b[0m: 'theta_j'"
          ]
        }
      ],
      "source": [
        "df = pd.read_csv('M32_0722.csv')\n",
        "import importlib\n",
        "import FunctionsM32 as FM\n",
        "importlib.reload(FM)\n",
        "df = FM.iterate_R_disk_convergence(df, max_iter=100, tol_inclination=0.01, tol_PA=0.35, D_M31=776.2, print=True)\n",
        "\n",
        "df.to_csv('M32_0722.csv', index=False)\n",
        "\n"
      ]
    },
    {
      "cell_type": "code",
      "execution_count": null,
      "id": "5dcbfc18",
      "metadata": {
        "id": "5dcbfc18",
        "colab": {
          "base_uri": "https://localhost:8080/",
          "height": 547
        },
        "outputId": "16ac799d-a595-4093-f924-92e04c5167db"
      },
      "outputs": [
        {
          "output_type": "error",
          "ename": "KeyError",
          "evalue": "'theta_j'",
          "traceback": [
            "\u001b[0;31m---------------------------------------------------------------------------\u001b[0m",
            "\u001b[0;31mKeyError\u001b[0m                                  Traceback (most recent call last)",
            "\u001b[0;32m/usr/local/lib/python3.11/dist-packages/pandas/core/indexes/base.py\u001b[0m in \u001b[0;36mget_loc\u001b[0;34m(self, key)\u001b[0m\n\u001b[1;32m   3804\u001b[0m         \u001b[0;32mtry\u001b[0m\u001b[0;34m:\u001b[0m\u001b[0;34m\u001b[0m\u001b[0;34m\u001b[0m\u001b[0m\n\u001b[0;32m-> 3805\u001b[0;31m             \u001b[0;32mreturn\u001b[0m \u001b[0mself\u001b[0m\u001b[0;34m.\u001b[0m\u001b[0m_engine\u001b[0m\u001b[0;34m.\u001b[0m\u001b[0mget_loc\u001b[0m\u001b[0;34m(\u001b[0m\u001b[0mcasted_key\u001b[0m\u001b[0;34m)\u001b[0m\u001b[0;34m\u001b[0m\u001b[0;34m\u001b[0m\u001b[0m\n\u001b[0m\u001b[1;32m   3806\u001b[0m         \u001b[0;32mexcept\u001b[0m \u001b[0mKeyError\u001b[0m \u001b[0;32mas\u001b[0m \u001b[0merr\u001b[0m\u001b[0;34m:\u001b[0m\u001b[0;34m\u001b[0m\u001b[0;34m\u001b[0m\u001b[0m\n",
            "\u001b[0;32mindex.pyx\u001b[0m in \u001b[0;36mpandas._libs.index.IndexEngine.get_loc\u001b[0;34m()\u001b[0m\n",
            "\u001b[0;32mindex.pyx\u001b[0m in \u001b[0;36mpandas._libs.index.IndexEngine.get_loc\u001b[0;34m()\u001b[0m\n",
            "\u001b[0;32mpandas/_libs/hashtable_class_helper.pxi\u001b[0m in \u001b[0;36mpandas._libs.hashtable.PyObjectHashTable.get_item\u001b[0;34m()\u001b[0m\n",
            "\u001b[0;32mpandas/_libs/hashtable_class_helper.pxi\u001b[0m in \u001b[0;36mpandas._libs.hashtable.PyObjectHashTable.get_item\u001b[0;34m()\u001b[0m\n",
            "\u001b[0;31mKeyError\u001b[0m: 'theta_j'",
            "\nThe above exception was the direct cause of the following exception:\n",
            "\u001b[0;31mKeyError\u001b[0m                                  Traceback (most recent call last)",
            "\u001b[0;32m/tmp/ipython-input-3582146107.py\u001b[0m in \u001b[0;36m<cell line: 0>\u001b[0;34m()\u001b[0m\n\u001b[1;32m      1\u001b[0m \u001b[0mdf\u001b[0m \u001b[0;34m=\u001b[0m \u001b[0mpd\u001b[0m\u001b[0;34m.\u001b[0m\u001b[0mread_csv\u001b[0m\u001b[0;34m(\u001b[0m\u001b[0;34m'M32_Final.csv'\u001b[0m\u001b[0;34m)\u001b[0m\u001b[0;34m\u001b[0m\u001b[0;34m\u001b[0m\u001b[0m\n\u001b[0;32m----> 2\u001b[0;31m \u001b[0mtheta_j\u001b[0m \u001b[0;34m=\u001b[0m \u001b[0mdf\u001b[0m\u001b[0;34m[\u001b[0m\u001b[0;34m'theta_j'\u001b[0m\u001b[0;34m]\u001b[0m\u001b[0;34m.\u001b[0m\u001b[0mvalues\u001b[0m\u001b[0;34m\u001b[0m\u001b[0;34m\u001b[0m\u001b[0m\n\u001b[0m\u001b[1;32m      3\u001b[0m \u001b[0mi_j_rad\u001b[0m \u001b[0;34m=\u001b[0m \u001b[0mdf\u001b[0m\u001b[0;34m[\u001b[0m\u001b[0;34m'i_j_rad'\u001b[0m\u001b[0;34m]\u001b[0m\u001b[0;34m.\u001b[0m\u001b[0mvalues\u001b[0m\u001b[0;34m\u001b[0m\u001b[0;34m\u001b[0m\u001b[0m\n\u001b[1;32m      4\u001b[0m \u001b[0mv_helio\u001b[0m \u001b[0;34m=\u001b[0m \u001b[0mdf\u001b[0m\u001b[0;34m[\u001b[0m\u001b[0;34m'v_helio'\u001b[0m\u001b[0;34m]\u001b[0m\u001b[0;34m.\u001b[0m\u001b[0mvalues\u001b[0m\u001b[0;34m\u001b[0m\u001b[0;34m\u001b[0m\u001b[0m\n\u001b[1;32m      5\u001b[0m \u001b[0mv_rot_model\u001b[0m \u001b[0;34m=\u001b[0m \u001b[0mdf\u001b[0m\u001b[0;34m[\u001b[0m\u001b[0;34m'v_rot_model'\u001b[0m\u001b[0;34m]\u001b[0m\u001b[0;34m.\u001b[0m\u001b[0mvalues\u001b[0m\u001b[0;34m\u001b[0m\u001b[0;34m\u001b[0m\u001b[0m\n",
            "\u001b[0;32m/usr/local/lib/python3.11/dist-packages/pandas/core/frame.py\u001b[0m in \u001b[0;36m__getitem__\u001b[0;34m(self, key)\u001b[0m\n\u001b[1;32m   4100\u001b[0m             \u001b[0;32mif\u001b[0m \u001b[0mself\u001b[0m\u001b[0;34m.\u001b[0m\u001b[0mcolumns\u001b[0m\u001b[0;34m.\u001b[0m\u001b[0mnlevels\u001b[0m \u001b[0;34m>\u001b[0m \u001b[0;36m1\u001b[0m\u001b[0;34m:\u001b[0m\u001b[0;34m\u001b[0m\u001b[0;34m\u001b[0m\u001b[0m\n\u001b[1;32m   4101\u001b[0m                 \u001b[0;32mreturn\u001b[0m \u001b[0mself\u001b[0m\u001b[0;34m.\u001b[0m\u001b[0m_getitem_multilevel\u001b[0m\u001b[0;34m(\u001b[0m\u001b[0mkey\u001b[0m\u001b[0;34m)\u001b[0m\u001b[0;34m\u001b[0m\u001b[0;34m\u001b[0m\u001b[0m\n\u001b[0;32m-> 4102\u001b[0;31m             \u001b[0mindexer\u001b[0m \u001b[0;34m=\u001b[0m \u001b[0mself\u001b[0m\u001b[0;34m.\u001b[0m\u001b[0mcolumns\u001b[0m\u001b[0;34m.\u001b[0m\u001b[0mget_loc\u001b[0m\u001b[0;34m(\u001b[0m\u001b[0mkey\u001b[0m\u001b[0;34m)\u001b[0m\u001b[0;34m\u001b[0m\u001b[0;34m\u001b[0m\u001b[0m\n\u001b[0m\u001b[1;32m   4103\u001b[0m             \u001b[0;32mif\u001b[0m \u001b[0mis_integer\u001b[0m\u001b[0;34m(\u001b[0m\u001b[0mindexer\u001b[0m\u001b[0;34m)\u001b[0m\u001b[0;34m:\u001b[0m\u001b[0;34m\u001b[0m\u001b[0;34m\u001b[0m\u001b[0m\n\u001b[1;32m   4104\u001b[0m                 \u001b[0mindexer\u001b[0m \u001b[0;34m=\u001b[0m \u001b[0;34m[\u001b[0m\u001b[0mindexer\u001b[0m\u001b[0;34m]\u001b[0m\u001b[0;34m\u001b[0m\u001b[0;34m\u001b[0m\u001b[0m\n",
            "\u001b[0;32m/usr/local/lib/python3.11/dist-packages/pandas/core/indexes/base.py\u001b[0m in \u001b[0;36mget_loc\u001b[0;34m(self, key)\u001b[0m\n\u001b[1;32m   3810\u001b[0m             ):\n\u001b[1;32m   3811\u001b[0m                 \u001b[0;32mraise\u001b[0m \u001b[0mInvalidIndexError\u001b[0m\u001b[0;34m(\u001b[0m\u001b[0mkey\u001b[0m\u001b[0;34m)\u001b[0m\u001b[0;34m\u001b[0m\u001b[0;34m\u001b[0m\u001b[0m\n\u001b[0;32m-> 3812\u001b[0;31m             \u001b[0;32mraise\u001b[0m \u001b[0mKeyError\u001b[0m\u001b[0;34m(\u001b[0m\u001b[0mkey\u001b[0m\u001b[0;34m)\u001b[0m \u001b[0;32mfrom\u001b[0m \u001b[0merr\u001b[0m\u001b[0;34m\u001b[0m\u001b[0;34m\u001b[0m\u001b[0m\n\u001b[0m\u001b[1;32m   3813\u001b[0m         \u001b[0;32mexcept\u001b[0m \u001b[0mTypeError\u001b[0m\u001b[0;34m:\u001b[0m\u001b[0;34m\u001b[0m\u001b[0;34m\u001b[0m\u001b[0m\n\u001b[1;32m   3814\u001b[0m             \u001b[0;31m# If we have a listlike key, _check_indexing_error will raise\u001b[0m\u001b[0;34m\u001b[0m\u001b[0;34m\u001b[0m\u001b[0m\n",
            "\u001b[0;31mKeyError\u001b[0m: 'theta_j'"
          ]
        }
      ],
      "source": [
        "df = pd.read_csv('M32_Final.csv')\n",
        "theta_j = df['theta_j'].values\n",
        "i_j_rad = df['i_j_rad'].values\n",
        "v_helio = df['v_helio'].values\n",
        "v_rot_model = df['v_rot_model'].values\n",
        "\n"
      ]
    },
    {
      "cell_type": "code",
      "execution_count": null,
      "id": "9782cfa3",
      "metadata": {
        "colab": {
          "base_uri": "https://localhost:8080/",
          "height": 547
        },
        "id": "9782cfa3",
        "outputId": "3a1913ea-c63c-4732-abfa-5b6244cef89f"
      },
      "outputs": [
        {
          "output_type": "error",
          "ename": "KeyError",
          "evalue": "'theta_j'",
          "traceback": [
            "\u001b[0;31m---------------------------------------------------------------------------\u001b[0m",
            "\u001b[0;31mKeyError\u001b[0m                                  Traceback (most recent call last)",
            "\u001b[0;32m/usr/local/lib/python3.11/dist-packages/pandas/core/indexes/base.py\u001b[0m in \u001b[0;36mget_loc\u001b[0;34m(self, key)\u001b[0m\n\u001b[1;32m   3804\u001b[0m         \u001b[0;32mtry\u001b[0m\u001b[0;34m:\u001b[0m\u001b[0;34m\u001b[0m\u001b[0;34m\u001b[0m\u001b[0m\n\u001b[0;32m-> 3805\u001b[0;31m             \u001b[0;32mreturn\u001b[0m \u001b[0mself\u001b[0m\u001b[0;34m.\u001b[0m\u001b[0m_engine\u001b[0m\u001b[0;34m.\u001b[0m\u001b[0mget_loc\u001b[0m\u001b[0;34m(\u001b[0m\u001b[0mcasted_key\u001b[0m\u001b[0;34m)\u001b[0m\u001b[0;34m\u001b[0m\u001b[0;34m\u001b[0m\u001b[0m\n\u001b[0m\u001b[1;32m   3806\u001b[0m         \u001b[0;32mexcept\u001b[0m \u001b[0mKeyError\u001b[0m \u001b[0;32mas\u001b[0m \u001b[0merr\u001b[0m\u001b[0;34m:\u001b[0m\u001b[0;34m\u001b[0m\u001b[0;34m\u001b[0m\u001b[0m\n",
            "\u001b[0;32mindex.pyx\u001b[0m in \u001b[0;36mpandas._libs.index.IndexEngine.get_loc\u001b[0;34m()\u001b[0m\n",
            "\u001b[0;32mindex.pyx\u001b[0m in \u001b[0;36mpandas._libs.index.IndexEngine.get_loc\u001b[0;34m()\u001b[0m\n",
            "\u001b[0;32mpandas/_libs/hashtable_class_helper.pxi\u001b[0m in \u001b[0;36mpandas._libs.hashtable.PyObjectHashTable.get_item\u001b[0;34m()\u001b[0m\n",
            "\u001b[0;32mpandas/_libs/hashtable_class_helper.pxi\u001b[0m in \u001b[0;36mpandas._libs.hashtable.PyObjectHashTable.get_item\u001b[0;34m()\u001b[0m\n",
            "\u001b[0;31mKeyError\u001b[0m: 'theta_j'",
            "\nThe above exception was the direct cause of the following exception:\n",
            "\u001b[0;31mKeyError\u001b[0m                                  Traceback (most recent call last)",
            "\u001b[0;32m/tmp/ipython-input-2174313263.py\u001b[0m in \u001b[0;36m<cell line: 0>\u001b[0;34m()\u001b[0m\n\u001b[0;32m----> 1\u001b[0;31m \u001b[0;32mimport\u001b[0m \u001b[0mFunctionsM32\u001b[0m \u001b[0;32mas\u001b[0m \u001b[0mFM\u001b[0m\u001b[0;34m\u001b[0m\u001b[0;34m\u001b[0m\u001b[0m\n\u001b[0m\u001b[1;32m      2\u001b[0m \u001b[0;34m\u001b[0m\u001b[0m\n\u001b[1;32m      3\u001b[0m \u001b[0mdf\u001b[0m \u001b[0;34m=\u001b[0m \u001b[0mpd\u001b[0m\u001b[0;34m.\u001b[0m\u001b[0mread_csv\u001b[0m\u001b[0;34m(\u001b[0m\u001b[0;34m\"M32_0722.csv\"\u001b[0m\u001b[0;34m)\u001b[0m\u001b[0;34m\u001b[0m\u001b[0;34m\u001b[0m\u001b[0m\n\u001b[1;32m      4\u001b[0m \u001b[0mprint\u001b[0m\u001b[0;34m(\u001b[0m\u001b[0mlen\u001b[0m\u001b[0;34m(\u001b[0m\u001b[0mdf\u001b[0m\u001b[0;34m)\u001b[0m\u001b[0;34m)\u001b[0m\u001b[0;34m\u001b[0m\u001b[0;34m\u001b[0m\u001b[0m\n\u001b[1;32m      5\u001b[0m \u001b[0mv_offset\u001b[0m\u001b[0;34m,\u001b[0m \u001b[0mv_model_los\u001b[0m \u001b[0;34m=\u001b[0m \u001b[0mFM\u001b[0m\u001b[0;34m.\u001b[0m\u001b[0mcalculate_voffset\u001b[0m\u001b[0;34m(\u001b[0m\u001b[0;36m1.21\u001b[0m\u001b[0;34m,\u001b[0m \u001b[0mv_rot_model\u001b[0m\u001b[0;34m,\u001b[0m \u001b[0mtheta_j\u001b[0m\u001b[0;34m,\u001b[0m \u001b[0mi_j_rad\u001b[0m\u001b[0;34m,\u001b[0m \u001b[0mv_helio\u001b[0m\u001b[0;34m)\u001b[0m\u001b[0;34m\u001b[0m\u001b[0;34m\u001b[0m\u001b[0m\n",
            "\u001b[0;32m/content/FunctionsM32.py\u001b[0m in \u001b[0;36m<module>\u001b[0;34m\u001b[0m\n\u001b[1;32m    240\u001b[0m \u001b[0mdf_clear\u001b[0m \u001b[0;34m=\u001b[0m \u001b[0msample_choose\u001b[0m\u001b[0;34m(\u001b[0m\u001b[0mdf_raw\u001b[0m\u001b[0;34m,\u001b[0m \u001b[0mser\u001b[0m\u001b[0;34m=\u001b[0m\u001b[0;32mFalse\u001b[0m\u001b[0;34m,\u001b[0m \u001b[0mclear\u001b[0m\u001b[0;34m=\u001b[0m\u001b[0;32mTrue\u001b[0m\u001b[0;34m,\u001b[0m \u001b[0mcontam\u001b[0m\u001b[0;34m=\u001b[0m\u001b[0;32mFalse\u001b[0m\u001b[0;34m)\u001b[0m  \u001b[0;31m# Clear stars (1583개)\u001b[0m\u001b[0;34m\u001b[0m\u001b[0;34m\u001b[0m\u001b[0m\n\u001b[1;32m    241\u001b[0m \u001b[0mdf_contam\u001b[0m \u001b[0;34m=\u001b[0m \u001b[0msample_choose\u001b[0m\u001b[0;34m(\u001b[0m\u001b[0mdf_raw\u001b[0m\u001b[0;34m,\u001b[0m \u001b[0mser\u001b[0m\u001b[0;34m=\u001b[0m\u001b[0;32mFalse\u001b[0m\u001b[0;34m,\u001b[0m \u001b[0mclear\u001b[0m\u001b[0;34m=\u001b[0m\u001b[0;32mFalse\u001b[0m\u001b[0;34m,\u001b[0m \u001b[0mcontam\u001b[0m\u001b[0;34m=\u001b[0m\u001b[0;32mTrue\u001b[0m\u001b[0;34m)\u001b[0m  \u001b[0;31m# Contaminated stars (386개)\u001b[0m\u001b[0;34m\u001b[0m\u001b[0;34m\u001b[0m\u001b[0m\n\u001b[0;32m--> 242\u001b[0;31m \u001b[0mtheta_j_tar\u001b[0m\u001b[0;34m,\u001b[0m \u001b[0mi_j_rad_tar\u001b[0m\u001b[0;34m,\u001b[0m \u001b[0mv_helio_tar\u001b[0m\u001b[0;34m,\u001b[0m \u001b[0mv_rot_model_tar\u001b[0m \u001b[0;34m=\u001b[0m \u001b[0minput_data\u001b[0m\u001b[0;34m(\u001b[0m\u001b[0mdf_target\u001b[0m\u001b[0;34m)\u001b[0m\u001b[0;34m\u001b[0m\u001b[0;34m\u001b[0m\u001b[0m\n\u001b[0m\u001b[1;32m    243\u001b[0m \u001b[0mtheta_j_ser\u001b[0m\u001b[0;34m,\u001b[0m \u001b[0mi_j_rad_ser\u001b[0m\u001b[0;34m,\u001b[0m \u001b[0mv_helio_ser\u001b[0m\u001b[0;34m,\u001b[0m \u001b[0mv_rot_model_ser\u001b[0m \u001b[0;34m=\u001b[0m \u001b[0minput_data\u001b[0m\u001b[0;34m(\u001b[0m\u001b[0mdf_ser\u001b[0m\u001b[0;34m)\u001b[0m\u001b[0;34m\u001b[0m\u001b[0;34m\u001b[0m\u001b[0m\n\u001b[1;32m    244\u001b[0m \u001b[0mtheta_j_clear\u001b[0m\u001b[0;34m,\u001b[0m \u001b[0mi_j_rad_clear\u001b[0m\u001b[0;34m,\u001b[0m \u001b[0mv_helio_clear\u001b[0m\u001b[0;34m,\u001b[0m \u001b[0mv_rot_model_clear\u001b[0m \u001b[0;34m=\u001b[0m \u001b[0minput_data\u001b[0m\u001b[0;34m(\u001b[0m\u001b[0mdf_clear\u001b[0m\u001b[0;34m)\u001b[0m\u001b[0;34m\u001b[0m\u001b[0;34m\u001b[0m\u001b[0m\n",
            "\u001b[0;32m/content/FunctionsM32.py\u001b[0m in \u001b[0;36minput_data\u001b[0;34m(df)\u001b[0m\n\u001b[1;32m    227\u001b[0m     \u001b[0mReturns\u001b[0m\u001b[0;34m:\u001b[0m \u001b[0mtheta_j\u001b[0m\u001b[0;34m,\u001b[0m \u001b[0mi_j_rad\u001b[0m\u001b[0;34m,\u001b[0m \u001b[0mv_helio\u001b[0m\u001b[0;34m,\u001b[0m \u001b[0mv_rot_model\u001b[0m\u001b[0;34m\u001b[0m\u001b[0;34m\u001b[0m\u001b[0m\n\u001b[1;32m    228\u001b[0m     \"\"\"\n\u001b[0;32m--> 229\u001b[0;31m     \u001b[0mtheta_j\u001b[0m \u001b[0;34m=\u001b[0m \u001b[0mdf\u001b[0m\u001b[0;34m[\u001b[0m\u001b[0;34m'theta_j'\u001b[0m\u001b[0;34m]\u001b[0m\u001b[0;34m.\u001b[0m\u001b[0mvalues\u001b[0m\u001b[0;34m\u001b[0m\u001b[0;34m\u001b[0m\u001b[0m\n\u001b[0m\u001b[1;32m    230\u001b[0m     \u001b[0mi_j_rad\u001b[0m \u001b[0;34m=\u001b[0m \u001b[0mdf\u001b[0m\u001b[0;34m[\u001b[0m\u001b[0;34m'i_j_rad'\u001b[0m\u001b[0;34m]\u001b[0m\u001b[0;34m.\u001b[0m\u001b[0mvalues\u001b[0m\u001b[0;34m\u001b[0m\u001b[0;34m\u001b[0m\u001b[0m\n\u001b[1;32m    231\u001b[0m     \u001b[0mv_helio\u001b[0m \u001b[0;34m=\u001b[0m \u001b[0mdf\u001b[0m\u001b[0;34m[\u001b[0m\u001b[0;34m'v_helio'\u001b[0m\u001b[0;34m]\u001b[0m\u001b[0;34m.\u001b[0m\u001b[0mvalues\u001b[0m\u001b[0;34m\u001b[0m\u001b[0;34m\u001b[0m\u001b[0m\n",
            "\u001b[0;32m/usr/local/lib/python3.11/dist-packages/pandas/core/frame.py\u001b[0m in \u001b[0;36m__getitem__\u001b[0;34m(self, key)\u001b[0m\n\u001b[1;32m   4100\u001b[0m             \u001b[0;32mif\u001b[0m \u001b[0mself\u001b[0m\u001b[0;34m.\u001b[0m\u001b[0mcolumns\u001b[0m\u001b[0;34m.\u001b[0m\u001b[0mnlevels\u001b[0m \u001b[0;34m>\u001b[0m \u001b[0;36m1\u001b[0m\u001b[0;34m:\u001b[0m\u001b[0;34m\u001b[0m\u001b[0;34m\u001b[0m\u001b[0m\n\u001b[1;32m   4101\u001b[0m                 \u001b[0;32mreturn\u001b[0m \u001b[0mself\u001b[0m\u001b[0;34m.\u001b[0m\u001b[0m_getitem_multilevel\u001b[0m\u001b[0;34m(\u001b[0m\u001b[0mkey\u001b[0m\u001b[0;34m)\u001b[0m\u001b[0;34m\u001b[0m\u001b[0;34m\u001b[0m\u001b[0m\n\u001b[0;32m-> 4102\u001b[0;31m             \u001b[0mindexer\u001b[0m \u001b[0;34m=\u001b[0m \u001b[0mself\u001b[0m\u001b[0;34m.\u001b[0m\u001b[0mcolumns\u001b[0m\u001b[0;34m.\u001b[0m\u001b[0mget_loc\u001b[0m\u001b[0;34m(\u001b[0m\u001b[0mkey\u001b[0m\u001b[0;34m)\u001b[0m\u001b[0;34m\u001b[0m\u001b[0;34m\u001b[0m\u001b[0m\n\u001b[0m\u001b[1;32m   4103\u001b[0m             \u001b[0;32mif\u001b[0m \u001b[0mis_integer\u001b[0m\u001b[0;34m(\u001b[0m\u001b[0mindexer\u001b[0m\u001b[0;34m)\u001b[0m\u001b[0;34m:\u001b[0m\u001b[0;34m\u001b[0m\u001b[0;34m\u001b[0m\u001b[0m\n\u001b[1;32m   4104\u001b[0m                 \u001b[0mindexer\u001b[0m \u001b[0;34m=\u001b[0m \u001b[0;34m[\u001b[0m\u001b[0mindexer\u001b[0m\u001b[0;34m]\u001b[0m\u001b[0;34m\u001b[0m\u001b[0;34m\u001b[0m\u001b[0m\n",
            "\u001b[0;32m/usr/local/lib/python3.11/dist-packages/pandas/core/indexes/base.py\u001b[0m in \u001b[0;36mget_loc\u001b[0;34m(self, key)\u001b[0m\n\u001b[1;32m   3810\u001b[0m             ):\n\u001b[1;32m   3811\u001b[0m                 \u001b[0;32mraise\u001b[0m \u001b[0mInvalidIndexError\u001b[0m\u001b[0;34m(\u001b[0m\u001b[0mkey\u001b[0m\u001b[0;34m)\u001b[0m\u001b[0;34m\u001b[0m\u001b[0;34m\u001b[0m\u001b[0m\n\u001b[0;32m-> 3812\u001b[0;31m             \u001b[0;32mraise\u001b[0m \u001b[0mKeyError\u001b[0m\u001b[0;34m(\u001b[0m\u001b[0mkey\u001b[0m\u001b[0;34m)\u001b[0m \u001b[0;32mfrom\u001b[0m \u001b[0merr\u001b[0m\u001b[0;34m\u001b[0m\u001b[0;34m\u001b[0m\u001b[0m\n\u001b[0m\u001b[1;32m   3813\u001b[0m         \u001b[0;32mexcept\u001b[0m \u001b[0mTypeError\u001b[0m\u001b[0;34m:\u001b[0m\u001b[0;34m\u001b[0m\u001b[0;34m\u001b[0m\u001b[0m\n\u001b[1;32m   3814\u001b[0m             \u001b[0;31m# If we have a listlike key, _check_indexing_error will raise\u001b[0m\u001b[0;34m\u001b[0m\u001b[0;34m\u001b[0m\u001b[0m\n",
            "\u001b[0;31mKeyError\u001b[0m: 'theta_j'"
          ]
        }
      ],
      "source": [
        "import FunctionsM32 as FM\n",
        "\n",
        "df = pd.read_csv(\"M32_0722.csv\")\n",
        "print(len(df))\n",
        "v_offset, v_model_los = FM.calculate_voffset(1.21, v_rot_model, theta_j, i_j_rad, v_helio)\n",
        "# Figure 및 Subplots 설정\n",
        "fig, axes = plt.subplots(1, 2, figsize=(14, 6))\n",
        "\n",
        "# 첫 번째 히스토그램: V_rot_model_los\n",
        "axes[0].hist(v_model_los, bins=16, color='blue', alpha=0.7)\n",
        "axes[0].set_xlabel('V_rot_model_los (km/s)')\n",
        "axes[0].set_ylabel('Frequency')\n",
        "axes[0].set_title( r'Histogram of Rotational $V_{LoS}$ Model')\n",
        "\n",
        "\n",
        "\n",
        "# 두 번째 히스토그램: v_offset\n",
        "axes[1].hist(v_offset, bins=16, color='blue', alpha=0.7)\n",
        "axes[1].set_xlabel('V_offset (km/s)')\n",
        "axes[1].set_ylabel('Frequency')\n",
        "axes[1].set_title(r'Histogram of offset $V_{LoS}$ Model')\n",
        "\n",
        "print(len(v_offset))\n",
        "# 레이아웃 조정 및 출력\n",
        "plt.tight_layout()\n",
        "plt.show()"
      ]
    },
    {
      "cell_type": "markdown",
      "id": "02ed0c6e",
      "metadata": {
        "id": "02ed0c6e"
      },
      "source": [
        "Let's compare\n",
        "\n",
        "#1 all stars (2049) for n components == 3, 5 (4 skip)  \n",
        "#2 serendipitous stars (680) for n components == 3, 5 (4 skip)  \n",
        "#3 clear stars (1583) for n components == 3, 5 (4 skip)"
      ]
    },
    {
      "cell_type": "code",
      "execution_count": null,
      "id": "72b0da52",
      "metadata": {
        "colab": {
          "base_uri": "https://localhost:8080/",
          "height": 430
        },
        "id": "72b0da52",
        "outputId": "a0d91b8f-2e60-4678-b414-077bda995182"
      },
      "outputs": [
        {
          "output_type": "display_data",
          "data": {
            "text/plain": [
              "<Figure size 640x480 with 1 Axes>"
            ],
            "image/png": "[encoded data removed]"
          },
          "metadata": {}
        }
      ],
      "source": [
        "from scipy.stats import norm, uniform\n",
        "\n",
        "\n",
        "def sample_choose(df_raw, ser = False, clear = False, contam = False, target = False):\n",
        "    \"\"\"\n",
        "    ser == True: serendipitous stars (680)\n",
        "    clear == True: clear stars (1583)\n",
        "    \"\"\"\n",
        "    if ser:\n",
        "        df = df_raw[df_raw['TYPE'] == 'serendip']\n",
        "    elif clear:\n",
        "        df = df_raw[df_raw['CONTAM'] < 0.2]\n",
        "    elif contam:\n",
        "        df = df_raw[df_raw['CONTAM'] >= 0.2]\n",
        "    elif target:\n",
        "        df = df_raw[df_raw['TYPE'] == 'target']\n",
        "    else:\n",
        "        df = df_raw.copy()\n",
        "\n",
        "    return df\n",
        "\n",
        "\n",
        "df_raw = pd.read_csv(\"M32_0722.csv\")\n",
        "\n",
        "\n",
        "df_allstar = sample_choose(df_raw, ser=False, clear=False, contam=False)  # Modify this part!!! (2049개)\n",
        "df_target = sample_choose(df_raw, ser=False, clear=False, contam=False, target=True)  # Target stars (400개)\n",
        "df_ser = sample_choose(df_raw, ser=True, clear=False, contam=False)  # Serendipitous stars (680개)\n",
        "df_clear = sample_choose(df_raw, ser=False, clear=True, contam=False)  # Clear stars (1583개)\n",
        "df_contam = sample_choose(df_raw, ser=False, clear=False, contam=True)  # Contaminated stars (386개)\n",
        "\n",
        "df = [df_allstar, df_ser, df_clear, df_contam]\n",
        "\n",
        "plt.hist(df_target['v_helio'], bins=60, density=True, alpha=0.5, label='Contaminated', color='gray')\n",
        "\n",
        "\n",
        "def input_data(df):\n",
        "    \"\"\"\n",
        "    df: DataFrame containing the data\n",
        "    Returns: theta_j, i_j_rad, v_helio, v_rot_model\n",
        "    \"\"\"\n",
        "    theta_j = df['theta_j'].values\n",
        "    i_j_rad = df['i_j_rad'].values\n",
        "    v_helio = df['v_helio'].values\n",
        "    v_rot_model = df['v_rot_model'].values\n",
        "\n",
        "    return theta_j, i_j_rad, v_helio, v_rot_model\n",
        "\n",
        "\n",
        "\n",
        "def log_likelihood_3comp(theta):\n",
        "    sigma_disk, f1, mu1, sigma1, f2, mu2, sigma2, f3, mu3, sigma3, f4, mu4, sigma4,f_rot = theta\n",
        "    disk_weight = 1.0 - (f1 + f2)  # f3, f4 not using here\n",
        "    if disk_weight < 0 or any(f < 0 for f in (f1, f2)):\n",
        "        return -np.inf\n",
        "    if any(s <= 0 for s in (sigma_disk, sigma1, sigma2)):\n",
        "        return -np.inf\n",
        "\n",
        "    try:\n",
        "        v_offset, v_model_los = FM.calculate_voffset(f_rot, v_rot_model, theta_j, i_j_rad, v_helio)\n",
        "    except:\n",
        "        return -np.inf\n",
        "        # likelihood 계산\n",
        "    pdf_vals = (\n",
        "            disk_weight * norm.pdf(v_offset, loc=0.0, scale=sigma_disk) +\n",
        "            f1 * norm.pdf(v_helio, loc=mu1, scale=sigma1) +\n",
        "            f2 * norm.pdf(v_helio,loc=mu2, scale=sigma2)\n",
        "        )\n",
        "    return np.sum(np.log(pdf_vals + 1e-300))\n",
        "\n",
        "def log_likelihood_4comp_GSS(theta):\n",
        "    sigma_disk, f1, mu1, sigma1, f2, mu2, sigma2, f3, mu3, sigma3, f4, mu4, sigma4,f_rot = theta\n",
        "    disk_weight = 1.0 - (f1 + f2 + f4)  # f3 not using here\n",
        "    if disk_weight < 0 or any(f < 0 for f in (f1, f2, f4)):\n",
        "        return -np.inf\n",
        "    if any(s <= 0 for s in (sigma_disk, sigma1, sigma2, sigma4)):\n",
        "        return -np.inf\n",
        "    try:\n",
        "        v_offset, v_model_los = FM.calculate_voffset(f_rot, v_rot_model, theta_j, i_j_rad, v_helio)\n",
        "    except:\n",
        "        return -np.inf\n",
        "        # likelihood 계산\n",
        "    pdf_vals = (\n",
        "            disk_weight * norm.pdf(v_offset, loc=0.0, scale=sigma_disk) +\n",
        "            f1 * norm.pdf(v_helio, loc=mu1, scale=sigma1) +\n",
        "            f2 * norm.pdf(v_helio, loc=mu2, scale=sigma2) +\n",
        "            f4 * norm.pdf(v_helio, loc=mu4, scale=sigma4)\n",
        "        )\n",
        "    return np.sum(np.log(pdf_vals + 1e-300))\n",
        "\n",
        "def log_likelihood_4comp_MW(theta):\n",
        "    sigma_disk, f1, mu1, sigma1, f2, mu2, sigma2, f3, mu3, sigma3, f4, mu4, sigma4, f_rot = theta\n",
        "    disk_weight = 1.0 - (f1 + f2 + f3)  # f4 not using here\n",
        "    if disk_weight < 0 or any(f < 0 for f in (f1, f2, f3)):\n",
        "        return -np.inf\n",
        "    if any(s <= 0 for s in (sigma_disk, sigma1, sigma2, sigma3)):\n",
        "        return -np.inf\n",
        "    try:\n",
        "        v_offset, v_model_los = FM.calculate_voffset(f_rot, v_rot_model, theta_j, i_j_rad, v_helio)\n",
        "    except:\n",
        "        return -np.inf\n",
        "        # likelihood calculation\n",
        "    pdf_vals = (\n",
        "            disk_weight * norm.pdf(v_offset, loc=0.0, scale=sigma_disk) +\n",
        "            f1 * norm.pdf(v_helio, loc=mu1, scale=sigma1) +\n",
        "            f2 * norm.pdf(v_helio, loc=mu2, scale=sigma2) +\n",
        "            f3 * norm.pdf(v_helio, loc=mu3, scale=sigma3)\n",
        "        )\n",
        "    return np.sum(np.log(pdf_vals + 1e-300))\n",
        "\n",
        "def log_likelihood_5comp(theta):\n",
        "    sigma_disk, f1, mu1, sigma1, f2, mu2, sigma2, f3, mu3, sigma3, f4, mu4, sigma4,f_rot = theta\n",
        "    disk_weight = 1.0 - (f1 + f2 + f3+ f4)\n",
        "    if disk_weight < 0 or any(f < 0 for f in (f1, f2,f3,f4)):\n",
        "        return -np.inf\n",
        "    if any(s <= 0 for s in (sigma_disk, sigma1, sigma2,sigma3, sigma4)):\n",
        "        return -np.inf\n",
        "    try:\n",
        "        v_offset, v_model_los = FM.calculate_voffset(f_rot, v_rot_model, theta_j, i_j_rad, v_helio)\n",
        "    except:\n",
        "        return -np.inf\n",
        "        # likelihood 계산\n",
        "    pdf_vals = (\n",
        "            disk_weight * norm.pdf(v_offset, loc=0.0, scale=sigma_disk) +\n",
        "            f1 * norm.pdf(v_helio, loc=mu1, scale=sigma1) +\n",
        "            f2 * norm.pdf(v_helio, loc=mu2, scale=sigma2) +\n",
        "            f3 * norm.pdf(v_helio, loc=mu3, scale=sigma3) +\n",
        "            f4 * norm.pdf(v_helio, loc=mu4, scale=sigma4)\n",
        "        )\n",
        "    return np.sum(np.log(pdf_vals + 1e-300))"
      ]
    },
    {
      "cell_type": "code",
      "execution_count": null,
      "id": "2d432a2c",
      "metadata": {
        "colab": {
          "base_uri": "https://localhost:8080/",
          "height": 547
        },
        "id": "2d432a2c",
        "outputId": "ce96dd6f-aa7f-4434-94b9-1d756e62a127"
      },
      "outputs": [
        {
          "output_type": "error",
          "ename": "KeyError",
          "evalue": "'theta_j'",
          "traceback": [
            "\u001b[0;31m---------------------------------------------------------------------------\u001b[0m",
            "\u001b[0;31mKeyError\u001b[0m                                  Traceback (most recent call last)",
            "\u001b[0;32m/usr/local/lib/python3.11/dist-packages/pandas/core/indexes/base.py\u001b[0m in \u001b[0;36mget_loc\u001b[0;34m(self, key)\u001b[0m\n\u001b[1;32m   3804\u001b[0m         \u001b[0;32mtry\u001b[0m\u001b[0;34m:\u001b[0m\u001b[0;34m\u001b[0m\u001b[0;34m\u001b[0m\u001b[0m\n\u001b[0;32m-> 3805\u001b[0;31m             \u001b[0;32mreturn\u001b[0m \u001b[0mself\u001b[0m\u001b[0;34m.\u001b[0m\u001b[0m_engine\u001b[0m\u001b[0;34m.\u001b[0m\u001b[0mget_loc\u001b[0m\u001b[0;34m(\u001b[0m\u001b[0mcasted_key\u001b[0m\u001b[0;34m)\u001b[0m\u001b[0;34m\u001b[0m\u001b[0;34m\u001b[0m\u001b[0m\n\u001b[0m\u001b[1;32m   3806\u001b[0m         \u001b[0;32mexcept\u001b[0m \u001b[0mKeyError\u001b[0m \u001b[0;32mas\u001b[0m \u001b[0merr\u001b[0m\u001b[0;34m:\u001b[0m\u001b[0;34m\u001b[0m\u001b[0;34m\u001b[0m\u001b[0m\n",
            "\u001b[0;32mindex.pyx\u001b[0m in \u001b[0;36mpandas._libs.index.IndexEngine.get_loc\u001b[0;34m()\u001b[0m\n",
            "\u001b[0;32mindex.pyx\u001b[0m in \u001b[0;36mpandas._libs.index.IndexEngine.get_loc\u001b[0;34m()\u001b[0m\n",
            "\u001b[0;32mpandas/_libs/hashtable_class_helper.pxi\u001b[0m in \u001b[0;36mpandas._libs.hashtable.PyObjectHashTable.get_item\u001b[0;34m()\u001b[0m\n",
            "\u001b[0;32mpandas/_libs/hashtable_class_helper.pxi\u001b[0m in \u001b[0;36mpandas._libs.hashtable.PyObjectHashTable.get_item\u001b[0;34m()\u001b[0m\n",
            "\u001b[0;31mKeyError\u001b[0m: 'theta_j'",
            "\nThe above exception was the direct cause of the following exception:\n",
            "\u001b[0;31mKeyError\u001b[0m                                  Traceback (most recent call last)",
            "\u001b[0;32m/tmp/ipython-input-567901377.py\u001b[0m in \u001b[0;36m<cell line: 0>\u001b[0;34m()\u001b[0m\n\u001b[1;32m      2\u001b[0m \u001b[0;32mimport\u001b[0m \u001b[0mmultiprocessing\u001b[0m\u001b[0;34m\u001b[0m\u001b[0;34m\u001b[0m\u001b[0m\n\u001b[1;32m      3\u001b[0m \u001b[0;32mimport\u001b[0m \u001b[0mnumpy\u001b[0m \u001b[0;32mas\u001b[0m \u001b[0mnp\u001b[0m\u001b[0;34m\u001b[0m\u001b[0;34m\u001b[0m\u001b[0m\n\u001b[0;32m----> 4\u001b[0;31m \u001b[0;32mimport\u001b[0m \u001b[0mFunctionsM32\u001b[0m \u001b[0;32mas\u001b[0m \u001b[0mFM\u001b[0m\u001b[0;34m\u001b[0m\u001b[0;34m\u001b[0m\u001b[0m\n\u001b[0m\u001b[1;32m      5\u001b[0m \u001b[0mimportlib\u001b[0m\u001b[0;34m.\u001b[0m\u001b[0mreload\u001b[0m\u001b[0;34m(\u001b[0m\u001b[0mFM\u001b[0m\u001b[0;34m)\u001b[0m\u001b[0;34m\u001b[0m\u001b[0;34m\u001b[0m\u001b[0m\n\u001b[1;32m      6\u001b[0m \u001b[0;34m\u001b[0m\u001b[0m\n",
            "\u001b[0;32m/content/FunctionsM32.py\u001b[0m in \u001b[0;36m<module>\u001b[0;34m\u001b[0m\n\u001b[1;32m    240\u001b[0m \u001b[0mdf_clear\u001b[0m \u001b[0;34m=\u001b[0m \u001b[0msample_choose\u001b[0m\u001b[0;34m(\u001b[0m\u001b[0mdf_raw\u001b[0m\u001b[0;34m,\u001b[0m \u001b[0mser\u001b[0m\u001b[0;34m=\u001b[0m\u001b[0;32mFalse\u001b[0m\u001b[0;34m,\u001b[0m \u001b[0mclear\u001b[0m\u001b[0;34m=\u001b[0m\u001b[0;32mTrue\u001b[0m\u001b[0;34m,\u001b[0m \u001b[0mcontam\u001b[0m\u001b[0;34m=\u001b[0m\u001b[0;32mFalse\u001b[0m\u001b[0;34m)\u001b[0m  \u001b[0;31m# Clear stars (1583개)\u001b[0m\u001b[0;34m\u001b[0m\u001b[0;34m\u001b[0m\u001b[0m\n\u001b[1;32m    241\u001b[0m \u001b[0mdf_contam\u001b[0m \u001b[0;34m=\u001b[0m \u001b[0msample_choose\u001b[0m\u001b[0;34m(\u001b[0m\u001b[0mdf_raw\u001b[0m\u001b[0;34m,\u001b[0m \u001b[0mser\u001b[0m\u001b[0;34m=\u001b[0m\u001b[0;32mFalse\u001b[0m\u001b[0;34m,\u001b[0m \u001b[0mclear\u001b[0m\u001b[0;34m=\u001b[0m\u001b[0;32mFalse\u001b[0m\u001b[0;34m,\u001b[0m \u001b[0mcontam\u001b[0m\u001b[0;34m=\u001b[0m\u001b[0;32mTrue\u001b[0m\u001b[0;34m)\u001b[0m  \u001b[0;31m# Contaminated stars (386개)\u001b[0m\u001b[0;34m\u001b[0m\u001b[0;34m\u001b[0m\u001b[0m\n\u001b[0;32m--> 242\u001b[0;31m \u001b[0mtheta_j_tar\u001b[0m\u001b[0;34m,\u001b[0m \u001b[0mi_j_rad_tar\u001b[0m\u001b[0;34m,\u001b[0m \u001b[0mv_helio_tar\u001b[0m\u001b[0;34m,\u001b[0m \u001b[0mv_rot_model_tar\u001b[0m \u001b[0;34m=\u001b[0m \u001b[0minput_data\u001b[0m\u001b[0;34m(\u001b[0m\u001b[0mdf_target\u001b[0m\u001b[0;34m)\u001b[0m\u001b[0;34m\u001b[0m\u001b[0;34m\u001b[0m\u001b[0m\n\u001b[0m\u001b[1;32m    243\u001b[0m \u001b[0mtheta_j_ser\u001b[0m\u001b[0;34m,\u001b[0m \u001b[0mi_j_rad_ser\u001b[0m\u001b[0;34m,\u001b[0m \u001b[0mv_helio_ser\u001b[0m\u001b[0;34m,\u001b[0m \u001b[0mv_rot_model_ser\u001b[0m \u001b[0;34m=\u001b[0m \u001b[0minput_data\u001b[0m\u001b[0;34m(\u001b[0m\u001b[0mdf_ser\u001b[0m\u001b[0;34m)\u001b[0m\u001b[0;34m\u001b[0m\u001b[0;34m\u001b[0m\u001b[0m\n\u001b[1;32m    244\u001b[0m \u001b[0mtheta_j_clear\u001b[0m\u001b[0;34m,\u001b[0m \u001b[0mi_j_rad_clear\u001b[0m\u001b[0;34m,\u001b[0m \u001b[0mv_helio_clear\u001b[0m\u001b[0;34m,\u001b[0m \u001b[0mv_rot_model_clear\u001b[0m \u001b[0;34m=\u001b[0m \u001b[0minput_data\u001b[0m\u001b[0;34m(\u001b[0m\u001b[0mdf_clear\u001b[0m\u001b[0;34m)\u001b[0m\u001b[0;34m\u001b[0m\u001b[0;34m\u001b[0m\u001b[0m\n",
            "\u001b[0;32m/content/FunctionsM32.py\u001b[0m in \u001b[0;36minput_data\u001b[0;34m(df)\u001b[0m\n\u001b[1;32m    227\u001b[0m     \u001b[0mReturns\u001b[0m\u001b[0;34m:\u001b[0m \u001b[0mtheta_j\u001b[0m\u001b[0;34m,\u001b[0m \u001b[0mi_j_rad\u001b[0m\u001b[0;34m,\u001b[0m \u001b[0mv_helio\u001b[0m\u001b[0;34m,\u001b[0m \u001b[0mv_rot_model\u001b[0m\u001b[0;34m\u001b[0m\u001b[0;34m\u001b[0m\u001b[0m\n\u001b[1;32m    228\u001b[0m     \"\"\"\n\u001b[0;32m--> 229\u001b[0;31m     \u001b[0mtheta_j\u001b[0m \u001b[0;34m=\u001b[0m \u001b[0mdf\u001b[0m\u001b[0;34m[\u001b[0m\u001b[0;34m'theta_j'\u001b[0m\u001b[0;34m]\u001b[0m\u001b[0;34m.\u001b[0m\u001b[0mvalues\u001b[0m\u001b[0;34m\u001b[0m\u001b[0;34m\u001b[0m\u001b[0m\n\u001b[0m\u001b[1;32m    230\u001b[0m     \u001b[0mi_j_rad\u001b[0m \u001b[0;34m=\u001b[0m \u001b[0mdf\u001b[0m\u001b[0;34m[\u001b[0m\u001b[0;34m'i_j_rad'\u001b[0m\u001b[0;34m]\u001b[0m\u001b[0;34m.\u001b[0m\u001b[0mvalues\u001b[0m\u001b[0;34m\u001b[0m\u001b[0;34m\u001b[0m\u001b[0m\n\u001b[1;32m    231\u001b[0m     \u001b[0mv_helio\u001b[0m \u001b[0;34m=\u001b[0m \u001b[0mdf\u001b[0m\u001b[0;34m[\u001b[0m\u001b[0;34m'v_helio'\u001b[0m\u001b[0;34m]\u001b[0m\u001b[0;34m.\u001b[0m\u001b[0mvalues\u001b[0m\u001b[0;34m\u001b[0m\u001b[0;34m\u001b[0m\u001b[0m\n",
            "\u001b[0;32m/usr/local/lib/python3.11/dist-packages/pandas/core/frame.py\u001b[0m in \u001b[0;36m__getitem__\u001b[0;34m(self, key)\u001b[0m\n\u001b[1;32m   4100\u001b[0m             \u001b[0;32mif\u001b[0m \u001b[0mself\u001b[0m\u001b[0;34m.\u001b[0m\u001b[0mcolumns\u001b[0m\u001b[0;34m.\u001b[0m\u001b[0mnlevels\u001b[0m \u001b[0;34m>\u001b[0m \u001b[0;36m1\u001b[0m\u001b[0;34m:\u001b[0m\u001b[0;34m\u001b[0m\u001b[0;34m\u001b[0m\u001b[0m\n\u001b[1;32m   4101\u001b[0m                 \u001b[0;32mreturn\u001b[0m \u001b[0mself\u001b[0m\u001b[0;34m.\u001b[0m\u001b[0m_getitem_multilevel\u001b[0m\u001b[0;34m(\u001b[0m\u001b[0mkey\u001b[0m\u001b[0;34m)\u001b[0m\u001b[0;34m\u001b[0m\u001b[0;34m\u001b[0m\u001b[0m\n\u001b[0;32m-> 4102\u001b[0;31m             \u001b[0mindexer\u001b[0m \u001b[0;34m=\u001b[0m \u001b[0mself\u001b[0m\u001b[0;34m.\u001b[0m\u001b[0mcolumns\u001b[0m\u001b[0;34m.\u001b[0m\u001b[0mget_loc\u001b[0m\u001b[0;34m(\u001b[0m\u001b[0mkey\u001b[0m\u001b[0;34m)\u001b[0m\u001b[0;34m\u001b[0m\u001b[0;34m\u001b[0m\u001b[0m\n\u001b[0m\u001b[1;32m   4103\u001b[0m             \u001b[0;32mif\u001b[0m \u001b[0mis_integer\u001b[0m\u001b[0;34m(\u001b[0m\u001b[0mindexer\u001b[0m\u001b[0;34m)\u001b[0m\u001b[0;34m:\u001b[0m\u001b[0;34m\u001b[0m\u001b[0;34m\u001b[0m\u001b[0m\n\u001b[1;32m   4104\u001b[0m                 \u001b[0mindexer\u001b[0m \u001b[0;34m=\u001b[0m \u001b[0;34m[\u001b[0m\u001b[0mindexer\u001b[0m\u001b[0;34m]\u001b[0m\u001b[0;34m\u001b[0m\u001b[0;34m\u001b[0m\u001b[0m\n",
            "\u001b[0;32m/usr/local/lib/python3.11/dist-packages/pandas/core/indexes/base.py\u001b[0m in \u001b[0;36mget_loc\u001b[0;34m(self, key)\u001b[0m\n\u001b[1;32m   3810\u001b[0m             ):\n\u001b[1;32m   3811\u001b[0m                 \u001b[0;32mraise\u001b[0m \u001b[0mInvalidIndexError\u001b[0m\u001b[0;34m(\u001b[0m\u001b[0mkey\u001b[0m\u001b[0;34m)\u001b[0m\u001b[0;34m\u001b[0m\u001b[0;34m\u001b[0m\u001b[0m\n\u001b[0;32m-> 3812\u001b[0;31m             \u001b[0;32mraise\u001b[0m \u001b[0mKeyError\u001b[0m\u001b[0;34m(\u001b[0m\u001b[0mkey\u001b[0m\u001b[0;34m)\u001b[0m \u001b[0;32mfrom\u001b[0m \u001b[0merr\u001b[0m\u001b[0;34m\u001b[0m\u001b[0;34m\u001b[0m\u001b[0m\n\u001b[0m\u001b[1;32m   3813\u001b[0m         \u001b[0;32mexcept\u001b[0m \u001b[0mTypeError\u001b[0m\u001b[0;34m:\u001b[0m\u001b[0;34m\u001b[0m\u001b[0;34m\u001b[0m\u001b[0m\n\u001b[1;32m   3814\u001b[0m             \u001b[0;31m# If we have a listlike key, _check_indexing_error will raise\u001b[0m\u001b[0;34m\u001b[0m\u001b[0;34m\u001b[0m\u001b[0m\n",
            "\u001b[0;31mKeyError\u001b[0m: 'theta_j'"
          ]
        }
      ],
      "source": [
        "from dynesty import DynamicNestedSampler\n",
        "import multiprocessing\n",
        "import numpy as np\n",
        "import FunctionsM32 as FM\n",
        "importlib.reload(FM)\n",
        "\n",
        "prior = FM.create_prior_distributions_5D()\n",
        "prior_list = list(prior.values())\n",
        "\n",
        "# Prior distribution output\n",
        "print(\"Prior distributions:\")\n",
        "for key, dist in prior.items():\n",
        "    print(f\"{key:10s}: {dist}\")\n",
        "\n",
        "# 2. prior_transform define\n",
        "def prior_transform(u):\n",
        "    eps = 1e-6\n",
        "    u = np.clip(u, eps, 1 - eps)\n",
        "    return [dist.ppf(ui) for dist, ui in zip(prior_list, u)]\n",
        "# 3. Dynesty Dynamic Sampler setting\n",
        "ndim = len(prior)\n",
        "\n"
      ]
    },
    {
      "cell_type": "code",
      "execution_count": null,
      "id": "5d0888d2",
      "metadata": {
        "colab": {
          "base_uri": "https://localhost:8080/",
          "height": 547
        },
        "id": "5d0888d2",
        "outputId": "61be5ec9-35a9-4b77-8c2d-3f710cf0102c"
      },
      "outputs": [
        {
          "output_type": "error",
          "ename": "KeyError",
          "evalue": "'theta_j'",
          "traceback": [
            "\u001b[0;31m---------------------------------------------------------------------------\u001b[0m",
            "\u001b[0;31mKeyError\u001b[0m                                  Traceback (most recent call last)",
            "\u001b[0;32m/usr/local/lib/python3.11/dist-packages/pandas/core/indexes/base.py\u001b[0m in \u001b[0;36mget_loc\u001b[0;34m(self, key)\u001b[0m\n\u001b[1;32m   3804\u001b[0m         \u001b[0;32mtry\u001b[0m\u001b[0;34m:\u001b[0m\u001b[0;34m\u001b[0m\u001b[0;34m\u001b[0m\u001b[0m\n\u001b[0;32m-> 3805\u001b[0;31m             \u001b[0;32mreturn\u001b[0m \u001b[0mself\u001b[0m\u001b[0;34m.\u001b[0m\u001b[0m_engine\u001b[0m\u001b[0;34m.\u001b[0m\u001b[0mget_loc\u001b[0m\u001b[0;34m(\u001b[0m\u001b[0mcasted_key\u001b[0m\u001b[0;34m)\u001b[0m\u001b[0;34m\u001b[0m\u001b[0;34m\u001b[0m\u001b[0m\n\u001b[0m\u001b[1;32m   3806\u001b[0m         \u001b[0;32mexcept\u001b[0m \u001b[0mKeyError\u001b[0m \u001b[0;32mas\u001b[0m \u001b[0merr\u001b[0m\u001b[0;34m:\u001b[0m\u001b[0;34m\u001b[0m\u001b[0;34m\u001b[0m\u001b[0m\n",
            "\u001b[0;32mindex.pyx\u001b[0m in \u001b[0;36mpandas._libs.index.IndexEngine.get_loc\u001b[0;34m()\u001b[0m\n",
            "\u001b[0;32mindex.pyx\u001b[0m in \u001b[0;36mpandas._libs.index.IndexEngine.get_loc\u001b[0;34m()\u001b[0m\n",
            "\u001b[0;32mpandas/_libs/hashtable_class_helper.pxi\u001b[0m in \u001b[0;36mpandas._libs.hashtable.PyObjectHashTable.get_item\u001b[0;34m()\u001b[0m\n",
            "\u001b[0;32mpandas/_libs/hashtable_class_helper.pxi\u001b[0m in \u001b[0;36mpandas._libs.hashtable.PyObjectHashTable.get_item\u001b[0;34m()\u001b[0m\n",
            "\u001b[0;31mKeyError\u001b[0m: 'theta_j'",
            "\nThe above exception was the direct cause of the following exception:\n",
            "\u001b[0;31mKeyError\u001b[0m                                  Traceback (most recent call last)",
            "\u001b[0;32m/tmp/ipython-input-4142260375.py\u001b[0m in \u001b[0;36m<cell line: 0>\u001b[0;34m()\u001b[0m\n\u001b[1;32m     18\u001b[0m \u001b[0;34m\u001b[0m\u001b[0m\n\u001b[1;32m     19\u001b[0m \u001b[0;31m# Choose the sample data to analyze\u001b[0m\u001b[0;34m\u001b[0m\u001b[0;34m\u001b[0m\u001b[0m\n\u001b[0;32m---> 20\u001b[0;31m \u001b[0mtheta_j\u001b[0m\u001b[0;34m,\u001b[0m \u001b[0mi_j_rad\u001b[0m\u001b[0;34m,\u001b[0m \u001b[0mv_helio\u001b[0m\u001b[0;34m,\u001b[0m \u001b[0mv_rot_model\u001b[0m \u001b[0;34m=\u001b[0m \u001b[0minput_data\u001b[0m\u001b[0;34m(\u001b[0m\u001b[0mdf_ser\u001b[0m\u001b[0;34m)\u001b[0m  \u001b[0;31m# Select your sample here\u001b[0m\u001b[0;34m\u001b[0m\u001b[0;34m\u001b[0m\u001b[0m\n\u001b[0m\u001b[1;32m     21\u001b[0m \u001b[0;34m\u001b[0m\u001b[0m\n\u001b[1;32m     22\u001b[0m \u001b[0;31m# Run nested sampling for each model\u001b[0m\u001b[0;34m\u001b[0m\u001b[0;34m\u001b[0m\u001b[0m\n",
            "\u001b[0;32m/tmp/ipython-input-804632095.py\u001b[0m in \u001b[0;36minput_data\u001b[0;34m(df)\u001b[0m\n\u001b[1;32m     40\u001b[0m     \u001b[0mReturns\u001b[0m\u001b[0;34m:\u001b[0m \u001b[0mtheta_j\u001b[0m\u001b[0;34m,\u001b[0m \u001b[0mi_j_rad\u001b[0m\u001b[0;34m,\u001b[0m \u001b[0mv_helio\u001b[0m\u001b[0;34m,\u001b[0m \u001b[0mv_rot_model\u001b[0m\u001b[0;34m\u001b[0m\u001b[0;34m\u001b[0m\u001b[0m\n\u001b[1;32m     41\u001b[0m     \"\"\"\n\u001b[0;32m---> 42\u001b[0;31m     \u001b[0mtheta_j\u001b[0m \u001b[0;34m=\u001b[0m \u001b[0mdf\u001b[0m\u001b[0;34m[\u001b[0m\u001b[0;34m'theta_j'\u001b[0m\u001b[0;34m]\u001b[0m\u001b[0;34m.\u001b[0m\u001b[0mvalues\u001b[0m\u001b[0;34m\u001b[0m\u001b[0;34m\u001b[0m\u001b[0m\n\u001b[0m\u001b[1;32m     43\u001b[0m     \u001b[0mi_j_rad\u001b[0m \u001b[0;34m=\u001b[0m \u001b[0mdf\u001b[0m\u001b[0;34m[\u001b[0m\u001b[0;34m'i_j_rad'\u001b[0m\u001b[0;34m]\u001b[0m\u001b[0;34m.\u001b[0m\u001b[0mvalues\u001b[0m\u001b[0;34m\u001b[0m\u001b[0;34m\u001b[0m\u001b[0m\n\u001b[1;32m     44\u001b[0m     \u001b[0mv_helio\u001b[0m \u001b[0;34m=\u001b[0m \u001b[0mdf\u001b[0m\u001b[0;34m[\u001b[0m\u001b[0;34m'v_helio'\u001b[0m\u001b[0;34m]\u001b[0m\u001b[0;34m.\u001b[0m\u001b[0mvalues\u001b[0m\u001b[0;34m\u001b[0m\u001b[0;34m\u001b[0m\u001b[0m\n",
            "\u001b[0;32m/usr/local/lib/python3.11/dist-packages/pandas/core/frame.py\u001b[0m in \u001b[0;36m__getitem__\u001b[0;34m(self, key)\u001b[0m\n\u001b[1;32m   4100\u001b[0m             \u001b[0;32mif\u001b[0m \u001b[0mself\u001b[0m\u001b[0;34m.\u001b[0m\u001b[0mcolumns\u001b[0m\u001b[0;34m.\u001b[0m\u001b[0mnlevels\u001b[0m \u001b[0;34m>\u001b[0m \u001b[0;36m1\u001b[0m\u001b[0;34m:\u001b[0m\u001b[0;34m\u001b[0m\u001b[0;34m\u001b[0m\u001b[0m\n\u001b[1;32m   4101\u001b[0m                 \u001b[0;32mreturn\u001b[0m \u001b[0mself\u001b[0m\u001b[0;34m.\u001b[0m\u001b[0m_getitem_multilevel\u001b[0m\u001b[0;34m(\u001b[0m\u001b[0mkey\u001b[0m\u001b[0;34m)\u001b[0m\u001b[0;34m\u001b[0m\u001b[0;34m\u001b[0m\u001b[0m\n\u001b[0;32m-> 4102\u001b[0;31m             \u001b[0mindexer\u001b[0m \u001b[0;34m=\u001b[0m \u001b[0mself\u001b[0m\u001b[0;34m.\u001b[0m\u001b[0mcolumns\u001b[0m\u001b[0;34m.\u001b[0m\u001b[0mget_loc\u001b[0m\u001b[0;34m(\u001b[0m\u001b[0mkey\u001b[0m\u001b[0;34m)\u001b[0m\u001b[0;34m\u001b[0m\u001b[0;34m\u001b[0m\u001b[0m\n\u001b[0m\u001b[1;32m   4103\u001b[0m             \u001b[0;32mif\u001b[0m \u001b[0mis_integer\u001b[0m\u001b[0;34m(\u001b[0m\u001b[0mindexer\u001b[0m\u001b[0;34m)\u001b[0m\u001b[0;34m:\u001b[0m\u001b[0;34m\u001b[0m\u001b[0;34m\u001b[0m\u001b[0m\n\u001b[1;32m   4104\u001b[0m                 \u001b[0mindexer\u001b[0m \u001b[0;34m=\u001b[0m \u001b[0;34m[\u001b[0m\u001b[0mindexer\u001b[0m\u001b[0;34m]\u001b[0m\u001b[0;34m\u001b[0m\u001b[0;34m\u001b[0m\u001b[0m\n",
            "\u001b[0;32m/usr/local/lib/python3.11/dist-packages/pandas/core/indexes/base.py\u001b[0m in \u001b[0;36mget_loc\u001b[0;34m(self, key)\u001b[0m\n\u001b[1;32m   3810\u001b[0m             ):\n\u001b[1;32m   3811\u001b[0m                 \u001b[0;32mraise\u001b[0m \u001b[0mInvalidIndexError\u001b[0m\u001b[0;34m(\u001b[0m\u001b[0mkey\u001b[0m\u001b[0;34m)\u001b[0m\u001b[0;34m\u001b[0m\u001b[0;34m\u001b[0m\u001b[0m\n\u001b[0;32m-> 3812\u001b[0;31m             \u001b[0;32mraise\u001b[0m \u001b[0mKeyError\u001b[0m\u001b[0;34m(\u001b[0m\u001b[0mkey\u001b[0m\u001b[0;34m)\u001b[0m \u001b[0;32mfrom\u001b[0m \u001b[0merr\u001b[0m\u001b[0;34m\u001b[0m\u001b[0;34m\u001b[0m\u001b[0m\n\u001b[0m\u001b[1;32m   3813\u001b[0m         \u001b[0;32mexcept\u001b[0m \u001b[0mTypeError\u001b[0m\u001b[0;34m:\u001b[0m\u001b[0;34m\u001b[0m\u001b[0;34m\u001b[0m\u001b[0m\n\u001b[1;32m   3814\u001b[0m             \u001b[0;31m# If we have a listlike key, _check_indexing_error will raise\u001b[0m\u001b[0;34m\u001b[0m\u001b[0;34m\u001b[0m\u001b[0m\n",
            "\u001b[0;31mKeyError\u001b[0m: 'theta_j'"
          ]
        }
      ],
      "source": [
        "samples = [df_target, df_ser, df_clear, df_contam]\n",
        "# Minjae  : df_targetstar\n",
        "# Rhett   : df_ser\n",
        "# Yashika : df_clear\n",
        "# Nishyanth : df_contam\n",
        "\n",
        "dsamplers = {}         # Dictionary to store samplers by model name\n",
        "results_comp = {}      # Dictionary to store results by model name\n",
        "\n",
        "# Define likelihood functions for each model\n",
        "# comment out 3,4,4,\n",
        "likelihoods = {\n",
        "    \"3comp\": log_likelihood_3comp,\n",
        "    \"4comp_GSS\": log_likelihood_4comp_GSS,\n",
        "    \"4comp_MW\": log_likelihood_4comp_MW,\n",
        "    \"5comp\": log_likelihood_5comp\n",
        "}\n",
        "\n",
        "# Choose the sample data to analyze\n",
        "theta_j, i_j_rad, v_helio, v_rot_model = input_data(df_ser)  # Select your sample here\n",
        "\n",
        "# Run nested sampling for each model\n",
        "for model_name, likelihood_function in likelihoods.items():\n",
        "    dsampler = DynamicNestedSampler(\n",
        "        likelihood_function,\n",
        "        prior_transform,\n",
        "        ndim=ndim,\n",
        "        bound='multi',\n",
        "        sample='rwalk'\n",
        "    )\n",
        "\n",
        "    dsampler.run_nested(dlogz_init=0.5, print_progress=True)\n",
        "\n",
        "    # Store sampler and result in dictionaries\n",
        "    dsamplers[model_name] = dsampler\n",
        "    results_comp[model_name] = dsampler.results\n",
        "\n"
      ]
    },
    {
      "cell_type": "code",
      "execution_count": null,
      "id": "6b45e047",
      "metadata": {
        "colab": {
          "base_uri": "https://localhost:8080/",
          "height": 211
        },
        "id": "6b45e047",
        "outputId": "930fb070-13a1-4174-c66a-fa12f17fee02"
      },
      "outputs": [
        {
          "output_type": "error",
          "ename": "NameError",
          "evalue": "name 'prior' is not defined",
          "traceback": [
            "\u001b[0;31m---------------------------------------------------------------------------\u001b[0m",
            "\u001b[0;31mNameError\u001b[0m                                 Traceback (most recent call last)",
            "\u001b[0;32m/tmp/ipython-input-2171237051.py\u001b[0m in \u001b[0;36m<cell line: 0>\u001b[0;34m()\u001b[0m\n\u001b[1;32m     11\u001b[0m \u001b[0;34m\u001b[0m\u001b[0m\n\u001b[1;32m     12\u001b[0m \u001b[0;31m# Assuming prior is a dictionary with parameter names\u001b[0m\u001b[0;34m\u001b[0m\u001b[0;34m\u001b[0m\u001b[0m\n\u001b[0;32m---> 13\u001b[0;31m \u001b[0mparam_labels\u001b[0m \u001b[0;34m=\u001b[0m \u001b[0mlist\u001b[0m\u001b[0;34m(\u001b[0m\u001b[0mprior\u001b[0m\u001b[0;34m.\u001b[0m\u001b[0mkeys\u001b[0m\u001b[0;34m(\u001b[0m\u001b[0;34m)\u001b[0m\u001b[0;34m)\u001b[0m\u001b[0;34m\u001b[0m\u001b[0;34m\u001b[0m\u001b[0m\n\u001b[0m\u001b[1;32m     14\u001b[0m \u001b[0;34m\u001b[0m\u001b[0m\n\u001b[1;32m     15\u001b[0m \u001b[0;31m# Plotting corner plots for each model result\u001b[0m\u001b[0;34m\u001b[0m\u001b[0;34m\u001b[0m\u001b[0m\n",
            "\u001b[0;31mNameError\u001b[0m: name 'prior' is not defined"
          ]
        }
      ],
      "source": [
        "from dynesty import plotting as dyplot\n",
        "import matplotlib.pyplot as plt\n",
        "\n",
        "# Define sample labels (if you are plotting by model name, use model_labels)\n",
        "model_labels = {\n",
        "    \"3comp\": \"3-Component\",\n",
        "    \"4comp_GSS\": \"4-Component (GSS)\",\n",
        "    \"4comp_MW\": \"4-Component (MW)\",\n",
        "    \"5comp\": \"5-Component\"\n",
        "}\n",
        "\n",
        "# Assuming prior is a dictionary with parameter names\n",
        "param_labels = list(prior.keys())\n",
        "\n",
        "# Plotting corner plots for each model result\n",
        "for model_name, result in results_comp.items():\n",
        "    fig, axes = dyplot.cornerplot(\n",
        "        result,\n",
        "        show_titles=True,\n",
        "        title_fmt=\".2f\",\n",
        "        labels=param_labels\n",
        "    )\n",
        "    fig.suptitle(f\"Posterior Corner Plot: {model_labels[model_name]}\", fontsize=14)\n",
        "    plt.tight_layout()\n",
        "    plt.show()\n"
      ]
    },
    {
      "cell_type": "code",
      "execution_count": null,
      "id": "f7fafabb",
      "metadata": {
        "colab": {
          "base_uri": "https://localhost:8080/"
        },
        "id": "f7fafabb",
        "outputId": "0f400a58-a1eb-4cf4-e395-29400c813e55"
      },
      "outputs": [
        {
          "output_type": "stream",
          "name": "stdout",
          "text": [
            "✅ Summary statistics saved: 'medians_summary.csv' and 'cred_intervals_summary.csv'\n"
          ]
        }
      ],
      "source": [
        "import numpy as np\n",
        "import pandas as pd\n",
        "\n",
        "# Define parameter names from prior (or use custom labels)\n",
        "param_names = list(prior.keys())\n",
        "\n",
        "# Labels for model types used in analysis\n",
        "model_labels = {\n",
        "    \"3comp\": \"3-Component\",\n",
        "    \"4comp_GSS\": \"4-Component (GSS)\",\n",
        "    \"4comp_MW\": \"4-Component (MW)\",\n",
        "    \"5comp\": \"5-Component\"\n",
        "}\n",
        "\n",
        "# Storage for summary statistics\n",
        "medians_all = {}\n",
        "cred_intervals_all = {}\n",
        "\n",
        "# Compute statistics for each model's posterior samples\n",
        "for model_name, res in results_comp.items():\n",
        "    samples = res.samples  # Shape: (n_samples, n_params)\n",
        "\n",
        "    # Compute percentiles\n",
        "    q16, q50, q84 = np.percentile(samples, [16, 50, 84], axis=0)\n",
        "\n",
        "    # Median (50th percentile)\n",
        "    medians_all[model_name] = dict(zip(param_names, q50))\n",
        "\n",
        "    # Symmetric 68% credible intervals\n",
        "    ci_dict = {\n",
        "        name: (low, high)\n",
        "        for name, low, high in zip(param_names, q16 - q50, q84 - q50)\n",
        "    }\n",
        "    cred_intervals_all[model_name] = ci_dict\n",
        "\n",
        "# Convert to DataFrames\n",
        "df_medians = pd.DataFrame.from_dict(medians_all, orient='index')\n",
        "df_cred_intervals = pd.DataFrame.from_dict(cred_intervals_all, orient='index')\n",
        "\n",
        "# Rename columns for credible intervals\n",
        "df_cred_intervals.columns = [f\"{col}_68CI\" for col in df_cred_intervals.columns]\n",
        "\n",
        "# Save to CSV\n",
        "df_medians.to_csv('medians_summary.csv')\n",
        "df_cred_intervals.to_csv('cred_intervals_summary.csv')\n",
        "\n",
        "print(\"✅ Summary statistics saved: 'medians_summary.csv' and 'cred_intervals_summary.csv'\")\n"
      ]
    },
    {
      "cell_type": "code",
      "execution_count": null,
      "id": "240d74e9",
      "metadata": {
        "colab": {
          "base_uri": "https://localhost:8080/"
        },
        "id": "240d74e9",
        "outputId": "c97427af-e9fa-4309-9a1a-c172a122fef3"
      },
      "outputs": [
        {
          "output_type": "stream",
          "name": "stdout",
          "text": [
            "\\begin{tabular}{lcccc}\n",
            "\\toprule\n",
            "Parameter & 3-Component & 4-Component (GSS) & 4-Component (MW) & 5-Component \\\\\n",
            "\\midrule\n",
            "$\\sigma_{\\mathrm{disk}}$ & $83.05^{+6.63}_{-8.10}$ & $80.54^{+7.17}_{-9.13}$ & $83.84^{+6.98}_{-8.46}$ & $81.33^{+7.15}_{-9.64}$ \\\\\n",
            "$f_{1}$ & $0.37^{+0.06}_{-0.07}$ & $0.38^{+0.06}_{-0.07}$ & $0.35^{+0.07}_{-0.08}$ & $0.35^{+0.08}_{-0.08}$ \\\\\n",
            "$\\mu_{1}$ & $-331.90^{+9.16}_{-9.02}$ & $-331.37^{+9.06}_{-8.85}$ & $-338.36^{+8.95}_{-9.21}$ & $-338.73^{+8.87}_{-8.70}$ \\\\\n",
            "$\\sigma_{1}$ & $140.31^{+6.59}_{-7.94}$ & $139.12^{+7.02}_{-8.18}$ & $133.13^{+7.15}_{-7.15}$ & $132.15^{+7.34}_{-7.77}$ \\\\\n",
            "$f_{2}$ & $0.22^{+0.03}_{-0.03}$ & $0.22^{+0.03}_{-0.03}$ & $0.22^{+0.03}_{-0.03}$ & $0.22^{+0.03}_{-0.04}$ \\\\\n",
            "$\\mu_{2}$ & $-198.94^{+3.00}_{-2.99}$ & $-199.09^{+3.14}_{-3.00}$ & $-199.01^{+3.08}_{-2.93}$ & $-199.22^{+3.23}_{-2.92}$ \\\\\n",
            "$\\sigma_{2}$ & $32.61^{+2.93}_{-3.51}$ & $32.63^{+3.05}_{-3.54}$ & $32.48^{+2.96}_{-3.37}$ & $32.65^{+2.96}_{-4.01}$ \\\\\n",
            "$f_{3}$ & $0.49^{+0.35}_{-0.33}$ & $0.48^{+0.35}_{-0.32}$ & $0.02^{+0.01}_{-0.01}$ & $0.02^{+0.01}_{-0.01}$ \\\\\n",
            "$\\mu_{3}$ & $-56.02^{+8.79}_{-8.46}$ & $-56.14^{+8.42}_{-8.44}$ & $-59.29^{+8.53}_{-8.78}$ & $-59.45^{+8.67}_{-8.81}$ \\\\\n",
            "$\\sigma_{3}$ & $44.36^{+8.54}_{-8.31}$ & $44.15^{+8.56}_{-8.39}$ & $44.84^{+7.55}_{-7.15}$ & $43.89^{+7.66}_{-6.72}$ \\\\\n",
            "$f_{4}$ & $0.52^{+0.32}_{-0.34}$ & $0.01^{+0.01}_{-0.01}$ & $0.49^{+0.33}_{-0.33}$ & $0.01^{+0.02}_{-0.01}$ \\\\\n",
            "$\\mu_{4}$ & $-617.91^{+8.59}_{-8.69}$ & $-614.87^{+9.12}_{-9.01}$ & $-618.29^{+8.57}_{-8.60}$ & $-615.38^{+9.23}_{-8.88}$ \\\\\n",
            "$\\sigma_{4}$ & $29.90^{+8.60}_{-8.55}$ & $29.86^{+8.54}_{-8.12}$ & $30.11^{+8.53}_{-8.48}$ & $30.29^{+8.58}_{-7.87}$ \\\\\n",
            "$f_{\\mathrm{rot}}$ & $1.21^{+0.07}_{-0.06}$ & $1.20^{+0.07}_{-0.07}$ & $1.21^{+0.08}_{-0.07}$ & $1.21^{+0.07}_{-0.07}$ \\\\\n",
            "\\bottomrule\n",
            "\\end{tabular}\n"
          ]
        }
      ],
      "source": [
        "import pandas as pd\n",
        "import numpy as np\n",
        "import re\n",
        "\n",
        "# --- 신뢰구간 문자열 파싱 ---\n",
        "def parse_np_float_tuple(cell_str):\n",
        "    if not isinstance(cell_str, str) or not cell_str.strip():\n",
        "        return (np.nan, np.nan)\n",
        "    try:\n",
        "        matches = re.findall(r'[-+]?\\d*\\.\\d+(?:[eE][-+]?\\d+)?', cell_str)\n",
        "        if len(matches) >= 2:\n",
        "            return float(matches[0]), float(matches[1])\n",
        "    except:\n",
        "        pass\n",
        "    return (np.nan, np.nan)\n",
        "\n",
        "# --- 수학 기호로 바꾸는 매핑 함수 ---\n",
        "def format_param_latex(param):\n",
        "    if param == 'f_rot':\n",
        "        return r\"$f_{\\mathrm{rot}}$\"\n",
        "    elif param == 'sigma_disk':\n",
        "        return r\"$\\sigma_{\\mathrm{disk}}$\"\n",
        "    match = re.match(r'(f|mu|sigma)(\\d)', param)\n",
        "    if match:\n",
        "        sym, idx = match.groups()\n",
        "        symbol_map = {'f': 'f', 'mu': r'\\mu', 'sigma': r'\\sigma'}\n",
        "        return f\"${symbol_map[sym]}_{{{idx}}}$\"\n",
        "    return f\"${param}$\"\n",
        "\n",
        "# --- 데이터 불러오기 ---\n",
        "df_medians = pd.read_csv(\"medians_summary.csv\", index_col=0)\n",
        "df_cred = pd.read_csv(\"cred_intervals_summary.csv\", index_col=0)\n",
        "\n",
        "# --- LaTeX 테이블 초기화 ---\n",
        "latex_table = pd.DataFrame(index=df_medians.columns, columns=df_medians.index)\n",
        "\n",
        "# --- 변환 및 포매팅 ---\n",
        "for model in df_medians.index:\n",
        "    for param in df_medians.columns:\n",
        "        try:\n",
        "            median = df_medians.loc[model, param]\n",
        "            ci_col = f\"{param}_68CI\"\n",
        "            if ci_col not in df_cred.columns:\n",
        "                latex_str = \"\"\n",
        "            else:\n",
        "                ci_entry = df_cred.loc[model, ci_col]\n",
        "                ci_low, ci_high = parse_np_float_tuple(ci_entry)\n",
        "                if pd.isna(median) or np.isnan(ci_low) or np.isnan(ci_high):\n",
        "                    latex_str = \"\"\n",
        "                else:\n",
        "                    minus_err = abs(ci_low)\n",
        "                    plus_err = abs(ci_high)\n",
        "                    latex_str = f\"${median:.2f}^{{+{plus_err:.2f}}}_{{-{minus_err:.2f}}}$\"\n",
        "        except Exception as e:\n",
        "            print(f\"[❌ Error] {model}, {param} → {e}\")\n",
        "            latex_str = \"\"\n",
        "        latex_table.loc[param, model] = latex_str\n",
        "\n",
        "# --- 컬럼명 재정의 ---\n",
        "latex_table.columns = [\n",
        "    \"3-Component\",\n",
        "    \"4-Component (GSS)\",\n",
        "    \"4-Component (MW)\",\n",
        "    \"5-Component\"\n",
        "]\n",
        "\n",
        "# --- 파라미터 순서 ---\n",
        "params = latex_table.index.tolist()\n",
        "cols = latex_table.columns.tolist()\n",
        "\n",
        "# --- LaTeX 출력 ---\n",
        "print(\"\\\\begin{tabular}{l\" + \"c\" * len(cols) + \"}\")\n",
        "print(\"\\\\toprule\")\n",
        "print(\"Parameter & \" + \" & \".join(cols) + \" \\\\\\\\\")\n",
        "print(\"\\\\midrule\")\n",
        "\n",
        "for param in params:\n",
        "    param_label = format_param_latex(param)\n",
        "    row = [latex_table.loc[param, col] if pd.notna(latex_table.loc[param, col]) else \"\" for col in cols]\n",
        "    print(f\"{param_label} & {' & '.join(row)} \\\\\\\\\")\n",
        "\n",
        "print(\"\\\\bottomrule\")\n",
        "print(\"\\\\end{tabular}\")"
      ]
    },
    {
      "cell_type": "code",
      "execution_count": null,
      "id": "717b01bb",
      "metadata": {
        "id": "717b01bb"
      },
      "outputs": [],
      "source": [
        "import pandas as pd\n",
        "\n",
        "def summarize_parameters(param_names, dynesty_values,escala_values=None, mode='mean'):\n",
        "    \"\"\"\n",
        "    Compare parameter values from dynesty output and Escala (if given).\n",
        "\n",
        "    - dynesty_values: list or array of dynesty-derived values (mean or MAP)\n",
        "    - escala_values: optional list of reference values (e.g., from Escala+09)\n",
        "    \"\"\"\n",
        "    data = {'Parameter': param_names, f'{mode.title()} (This Work)': dynesty_values}\n",
        "    if escala_values is not None:\n",
        "        data['Escala'] = escala_values\n",
        "        data['Difference'] = [d - e for d, e in zip(dynesty_values, escala_values)]\n",
        "    df = pd.DataFrame(data)\n",
        "    return df\n",
        "\n",
        "escala_list_5comp= [91.8, 0.37, -340.9, 148.9, 0.08, -191.9, 27.5, 0.02, -55.5, 58.9, 0.02, -607.5, 25.8, 0.96]\n",
        "escala_list_M32region_3comp = [45.4, 0.68, -334.9, 143.0, 0.19, -195.6, 31.5, 1.18]\n",
        "summarize_parameters(param_names=list(priors.keys()),\n",
        "                     dynesty_values=mean_params,\n",
        "                     escala_values=escala_list_M32region_3comp,  # 여기에 Escala+09 값을 넣으세요\n",
        "                     mode='mean')"
      ]
    },
    {
      "cell_type": "markdown",
      "id": "f39598a3",
      "metadata": {
        "id": "f39598a3"
      },
      "source": [
        "Seems to have more disk stars, halo comp is decreased dramatically.\n",
        "- Assume disk LOS-v as -389.2 km/s"
      ]
    },
    {
      "cell_type": "code",
      "execution_count": null,
      "id": "c4f5840c",
      "metadata": {
        "id": "c4f5840c"
      },
      "outputs": [],
      "source": [
        "import numpy as np\n",
        "import matplotlib.pyplot as plt\n",
        "from scipy.stats import norm, gaussian_kde\n",
        "\n",
        "def plot_3components_fitting(posterior_representative, v_range=np.linspace(-700, 200, 1000)):\n",
        "    \"\"\"\n",
        "    param_dict : posterior mean values\n",
        "    Plot only M32, M31 halo, MWFG, and GSS components in v_helio space.\n",
        "    \"\"\"\n",
        "    mean_los_mod = -389.2  # M31 disk LOS velocity, assumed constant\n",
        "    # 각 component\n",
        "    components = [\n",
        "    {'label': 'M31disk',  'f':1 - posterior_representative[1]-posterior_representative[4],  'mu': mean_los_mod,  'sigma': posterior_representative[0]},\n",
        "    {'label': 'M31Halo',  'f': posterior_representative[1],  'mu': posterior_representative[2],  'sigma': posterior_representative[3]},\n",
        "    {'label': 'M32', 'f': posterior_representative[4],  'mu': posterior_representative[5],  'sigma': posterior_representative[6]}\n",
        "    #{'label': 'MWFG', 'f': posterior_representative[7],  'mu': posterior_representative[8],  'sigma': posterior_representative[9]},\n",
        "    #{'label': 'GSS',  'f': posterior_representative[10], 'mu': posterior_representative[11], 'sigma': posterior_representative[12]},\n",
        "]\n",
        "\n",
        "    # 각 컴포넌트별 PDF\n",
        "    v_helio = df_raw['v_helio']\n",
        "    comp_pdfs = [comp['f'] * norm.pdf(v_helio, loc=comp['mu'], scale=comp['sigma']) for comp in components]\n",
        "\n",
        "\n",
        "    kde = gaussian_kde(v_helio, bw_method='scott')  # or 'silverman' or scalar\n",
        "    v_range = np.linspace(min(v_helio) - 50, max(v_helio) + 50, 1000)\n",
        "    pdf_kde = kde(v_range)\n",
        "\n",
        "    # 3. 시각화\n",
        "    plt.figure(figsize=(10, 6))\n",
        "    plt.hist(v_helio, bins=60, density=True, alpha=0.5, label='Observed v_helio', color='gray')\n",
        "    #plt.plot(v_range, pdf_kde, label='KDE Fit', color='black', linewidth=2)\n",
        "    #plt.plot(v_range, total_pdf, label=\"Sum of Components\", color='black', linewidth=2)\n",
        "\n",
        "    colors = ['blue', 'green', 'orange']\n",
        "    total_pdf = np.zeros_like(v_range)\n",
        "\n",
        "    # 먼저 blue, green, orange 컴포넌트 그리기\n",
        "    for comp, color in zip(components[:3], colors):\n",
        "        label = f\"{comp['label']} (f={comp['f']:.3f})\"\n",
        "        pdf = comp['f'] * norm.pdf(v_range, loc=comp['mu'], scale=comp['sigma'])\n",
        "        total_pdf += pdf\n",
        "        plt.plot(v_range, pdf, label=label, color=color)\n",
        "\n",
        "    # 마지막 purple은 앞의 3개를 합한 총합으로\n",
        "    plt.plot(v_range, total_pdf, label='Sum of all components', color='purple', linestyle='--')\n",
        "\n",
        "\n",
        "def plot_5components_fitting(posterior_representative, v_range=np.linspace(-700, 200, 1000)):\n",
        "    \"\"\"\n",
        "    param_dict : posterior mean values\n",
        "    Plot only M32, M31 halo, MWFG, and GSS components in v_helio space.\n",
        "    \"\"\"\n",
        "    mean_los_mod = -389.2  # M31 disk LOS velocity, assumed constant\n",
        "    # 각 component\n",
        "    components = [\n",
        "    {'label': 'M31disk',  'f':1 - posterior_representative[1]-posterior_representative[4]-posterior_representative[7]-posterior_representative[10],  'mu': mean_los_mod,  'sigma': posterior_representative[0]},\n",
        "    {'label': 'M31Halo',  'f': posterior_representative[1],  'mu': posterior_representative[2],  'sigma': posterior_representative[3]},\n",
        "    {'label': 'M32', 'f': posterior_representative[4],  'mu': posterior_representative[5],  'sigma': posterior_representative[6]},\n",
        "    {'label': 'MWFG', 'f': posterior_representative[7],  'mu': posterior_representative[8],  'sigma': posterior_representative[9]},\n",
        "    {'label': 'GSS',  'f': posterior_representative[10], 'mu': posterior_representative[11], 'sigma': posterior_representative[12]},\n",
        "]\n",
        "\n",
        "    # 각 컴포넌트별 PDF\n",
        "    v_helio = df_raw['v_helio']\n",
        "    comp_pdfs = [comp['f'] * norm.pdf(v_helio, loc=comp['mu'], scale=comp['sigma']) for comp in components]\n",
        "\n",
        "\n",
        "    kde = gaussian_kde(v_helio, bw_method='scott')  # or 'silverman' or scalar\n",
        "    v_range = np.linspace(min(v_helio) - 50, max(v_helio) + 50, 1000)\n",
        "    pdf_kde = kde(v_range)\n",
        "\n",
        "    # 3. 시각화\n",
        "    plt.figure(figsize=(10, 6))\n",
        "    plt.hist(v_helio, bins=60, density=True, alpha=0.5, label='Observed v_helio', color='gray')\n",
        "    #plt.plot(v_range, pdf_kde, label='KDE Fit', color='black', linewidth=2)\n",
        "    #plt.plot(v_range, total_pdf, label=\"Sum of Components\", color='black', linewidth=2)\n",
        "\n",
        "    colors = ['blue', 'green', 'orange', 'red', 'cyan']\n",
        "    total_pdf = np.zeros_like(v_range)\n",
        "\n",
        "    # 먼저 blue, green, orange 컴포넌트 그리기\n",
        "    for comp, color in zip(components[:5], colors):\n",
        "        label = f\"{comp['label']} (f={comp['f']:.3f})\"\n",
        "        pdf = comp['f'] * norm.pdf(v_range, loc=comp['mu'], scale=comp['sigma'])\n",
        "        total_pdf += pdf\n",
        "        plt.plot(v_range, pdf, label=label, color=color)\n",
        "\n",
        "    # 마지막 purple은 앞의 3개를 합한 총합으로\n",
        "    plt.plot(v_range, total_pdf, label='Sum of all components', color='purple', linestyle='--')\n",
        "\n",
        "\n",
        "    plt.xlabel(\"v_helio [km/s]\")\n",
        "    plt.ylabel(\"Probability Density\")\n",
        "    plt.title(\"Velocity Components (excluding Disk)\")\n",
        "    plt.legend()\n",
        "    plt.grid(True, linestyle='--', alpha=0.5)\n",
        "    plt.tight_layout()\n",
        "    plt.show()\n",
        "plot_5components_fitting(map_params)   # If number of components is 3\n",
        "#plot_5components_fitting(map_params)  # If number of components is 5\n"
      ]
    }
  ],
  "metadata": {
    "kernelspec": {
      "display_name": "ucsc",
      "language": "python",
      "name": "python3"
    },
    "language_info": {
      "codemirror_mode": {
        "name": "ipython",
        "version": 3
      },
      "file_extension": ".py",
      "mimetype": "text/x-python",
      "name": "python",
      "nbconvert_exporter": "python",
      "pygments_lexer": "ipython3",
      "version": "3.13.5"
    },
    "colab": {
      "provenance": []
    }
  },
  "nbformat": 4,
  "nbformat_minor": 5
}